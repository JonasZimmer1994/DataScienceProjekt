{
  "nbformat": 4,
  "nbformat_minor": 0,
  "metadata": {
    "colab": {
      "name": "Data_Science_Projekt.ipynb",
      "provenance": [],
      "collapsed_sections": [],
      "toc_visible": true,
      "machine_shape": "hm",
      "authorship_tag": "ABX9TyORZwYooQ0vh9o86bNAcsyT",
      "include_colab_link": true
    },
    "kernelspec": {
      "name": "python3",
      "display_name": "Python 3"
    },
    "accelerator": "GPU"
  },
  "cells": [
    {
      "cell_type": "markdown",
      "metadata": {
        "id": "view-in-github",
        "colab_type": "text"
      },
      "source": [
        "<a href=\"https://colab.research.google.com/github/JonasZimmer1994/DataScienceProjekt/blob/master/Data_Science_Projekt.ipynb\" target=\"_parent\"><img src=\"https://colab.research.google.com/assets/colab-badge.svg\" alt=\"Open In Colab\"/></a>"
      ]
    },
    {
      "cell_type": "markdown",
      "metadata": {
        "id": "ma2Pw8b_d8s5",
        "colab_type": "text"
      },
      "source": [
        "Kaggle ID: 5191523\n",
        "\n",
        "Projektpartnerin:  Aylin Haskioglu"
      ]
    },
    {
      "cell_type": "markdown",
      "metadata": {
        "id": "ct9F9oKX58JY",
        "colab_type": "text"
      },
      "source": [
        "Notebooks die halfen:\n",
        "\n",
        "https://www.kaggle.com/utcarshagrawal/nlp-model-including-eda-and-data-cleaning\n",
        "\n",
        "https://www.kaggle.com/shahules/basic-eda-cleaning-and-glove\n",
        "\n",
        "https://www.kaggle.com/vanshjatana/a-simple-guide-to-text-cleaning\n",
        "\n"
      ]
    },
    {
      "cell_type": "markdown",
      "metadata": {
        "id": "vYWXNMV-xzdV",
        "colab_type": "text"
      },
      "source": [
        "###Data Import"
      ]
    },
    {
      "cell_type": "code",
      "metadata": {
        "id": "7ButTKnKzutd",
        "colab_type": "code",
        "colab": {
          "base_uri": "https://localhost:8080/",
          "height": 35
        },
        "outputId": "22a0b71e-40c8-44b8-85d7-defca97c8652"
      },
      "source": [
        "!git clone https://github.com/JonasZimmer1994/DataScienceProjekt.git"
      ],
      "execution_count": null,
      "outputs": [
        {
          "output_type": "stream",
          "text": [
            "fatal: destination path 'DataScienceProjekt' already exists and is not an empty directory.\n"
          ],
          "name": "stdout"
        }
      ]
    },
    {
      "cell_type": "code",
      "metadata": {
        "id": "VPLH1inkUpEm",
        "colab_type": "code",
        "colab": {
          "base_uri": "https://localhost:8080/",
          "height": 1000
        },
        "outputId": "afdfcfcc-9144-479f-9cfc-5d555b448b12"
      },
      "source": [
        "!pip install tensorflow==2.0\n",
        "!pip install tensorflow_hub\n",
        "!pip install bert-for-tf2\n",
        "\n",
        "!pip install -q tf-nightly\n",
        "!pip install --ignore-installed tf-nightly"
      ],
      "execution_count": null,
      "outputs": [
        {
          "output_type": "stream",
          "text": [
            "Requirement already satisfied: tensorflow==2.0 in /usr/local/lib/python3.6/dist-packages (2.0.0)\n",
            "Requirement already satisfied: six>=1.10.0 in /usr/local/lib/python3.6/dist-packages (from tensorflow==2.0) (1.15.0)\n",
            "Requirement already satisfied: protobuf>=3.6.1 in /usr/local/lib/python3.6/dist-packages (from tensorflow==2.0) (3.12.2)\n",
            "Requirement already satisfied: astor>=0.6.0 in /usr/local/lib/python3.6/dist-packages (from tensorflow==2.0) (0.8.1)\n",
            "Requirement already satisfied: grpcio>=1.8.6 in /usr/local/lib/python3.6/dist-packages (from tensorflow==2.0) (1.30.0)\n",
            "Requirement already satisfied: tensorflow-estimator<2.1.0,>=2.0.0 in /usr/local/lib/python3.6/dist-packages (from tensorflow==2.0) (2.0.1)\n",
            "Requirement already satisfied: termcolor>=1.1.0 in /usr/local/lib/python3.6/dist-packages (from tensorflow==2.0) (1.1.0)\n",
            "Requirement already satisfied: numpy<2.0,>=1.16.0 in /usr/local/lib/python3.6/dist-packages (from tensorflow==2.0) (1.18.5)\n",
            "Requirement already satisfied: wrapt>=1.11.1 in /usr/local/lib/python3.6/dist-packages (from tensorflow==2.0) (1.12.1)\n",
            "Requirement already satisfied: wheel>=0.26 in /usr/local/lib/python3.6/dist-packages (from tensorflow==2.0) (0.34.2)\n",
            "Requirement already satisfied: tensorboard<2.1.0,>=2.0.0 in /usr/local/lib/python3.6/dist-packages (from tensorflow==2.0) (2.0.2)\n",
            "Requirement already satisfied: keras-applications>=1.0.8 in /usr/local/lib/python3.6/dist-packages (from tensorflow==2.0) (1.0.8)\n",
            "Requirement already satisfied: keras-preprocessing>=1.0.5 in /usr/local/lib/python3.6/dist-packages (from tensorflow==2.0) (1.1.2)\n",
            "Requirement already satisfied: absl-py>=0.7.0 in /usr/local/lib/python3.6/dist-packages (from tensorflow==2.0) (0.9.0)\n",
            "Processing /root/.cache/pip/wheels/5c/2e/7e/a1d4d4fcebe6c381f378ce7743a3ced3699feb89bcfbdadadd/gast-0.2.2-cp36-none-any.whl\n",
            "Requirement already satisfied: opt-einsum>=2.3.2 in /usr/local/lib/python3.6/dist-packages (from tensorflow==2.0) (3.2.1)\n",
            "Requirement already satisfied: google-pasta>=0.1.6 in /usr/local/lib/python3.6/dist-packages (from tensorflow==2.0) (0.2.0)\n",
            "Requirement already satisfied: setuptools in /usr/local/lib/python3.6/dist-packages (from protobuf>=3.6.1->tensorflow==2.0) (47.3.1)\n",
            "Requirement already satisfied: google-auth<2,>=1.6.3 in /usr/local/lib/python3.6/dist-packages (from tensorboard<2.1.0,>=2.0.0->tensorflow==2.0) (1.18.0)\n",
            "Requirement already satisfied: requests<3,>=2.21.0 in /usr/local/lib/python3.6/dist-packages (from tensorboard<2.1.0,>=2.0.0->tensorflow==2.0) (2.24.0)\n",
            "Requirement already satisfied: werkzeug>=0.11.15 in /usr/local/lib/python3.6/dist-packages (from tensorboard<2.1.0,>=2.0.0->tensorflow==2.0) (1.0.1)\n",
            "Requirement already satisfied: google-auth-oauthlib<0.5,>=0.4.1 in /usr/local/lib/python3.6/dist-packages (from tensorboard<2.1.0,>=2.0.0->tensorflow==2.0) (0.4.1)\n",
            "Requirement already satisfied: markdown>=2.6.8 in /usr/local/lib/python3.6/dist-packages (from tensorboard<2.1.0,>=2.0.0->tensorflow==2.0) (3.2.2)\n",
            "Requirement already satisfied: h5py in /usr/local/lib/python3.6/dist-packages (from keras-applications>=1.0.8->tensorflow==2.0) (2.10.0)\n",
            "Requirement already satisfied: cachetools<5.0,>=2.0.0 in /usr/local/lib/python3.6/dist-packages (from google-auth<2,>=1.6.3->tensorboard<2.1.0,>=2.0.0->tensorflow==2.0) (4.1.0)\n",
            "Requirement already satisfied: pyasn1-modules>=0.2.1 in /usr/local/lib/python3.6/dist-packages (from google-auth<2,>=1.6.3->tensorboard<2.1.0,>=2.0.0->tensorflow==2.0) (0.2.8)\n",
            "Requirement already satisfied: rsa<5,>=3.1.4; python_version >= \"3\" in /usr/local/lib/python3.6/dist-packages (from google-auth<2,>=1.6.3->tensorboard<2.1.0,>=2.0.0->tensorflow==2.0) (4.6)\n",
            "Requirement already satisfied: idna<3,>=2.5 in /usr/local/lib/python3.6/dist-packages (from requests<3,>=2.21.0->tensorboard<2.1.0,>=2.0.0->tensorflow==2.0) (2.9)\n",
            "Requirement already satisfied: certifi>=2017.4.17 in /usr/local/lib/python3.6/dist-packages (from requests<3,>=2.21.0->tensorboard<2.1.0,>=2.0.0->tensorflow==2.0) (2020.6.20)\n",
            "Requirement already satisfied: urllib3!=1.25.0,!=1.25.1,<1.26,>=1.21.1 in /usr/local/lib/python3.6/dist-packages (from requests<3,>=2.21.0->tensorboard<2.1.0,>=2.0.0->tensorflow==2.0) (1.25.9)\n",
            "Requirement already satisfied: chardet<4,>=3.0.2 in /usr/local/lib/python3.6/dist-packages (from requests<3,>=2.21.0->tensorboard<2.1.0,>=2.0.0->tensorflow==2.0) (3.0.4)\n",
            "Requirement already satisfied: requests-oauthlib>=0.7.0 in /usr/local/lib/python3.6/dist-packages (from google-auth-oauthlib<0.5,>=0.4.1->tensorboard<2.1.0,>=2.0.0->tensorflow==2.0) (1.3.0)\n",
            "Requirement already satisfied: importlib-metadata; python_version < \"3.8\" in /usr/local/lib/python3.6/dist-packages (from markdown>=2.6.8->tensorboard<2.1.0,>=2.0.0->tensorflow==2.0) (1.6.1)\n",
            "Requirement already satisfied: pyasn1<0.5.0,>=0.4.6 in /usr/local/lib/python3.6/dist-packages (from pyasn1-modules>=0.2.1->google-auth<2,>=1.6.3->tensorboard<2.1.0,>=2.0.0->tensorflow==2.0) (0.4.8)\n",
            "Requirement already satisfied: oauthlib>=3.0.0 in /usr/local/lib/python3.6/dist-packages (from requests-oauthlib>=0.7.0->google-auth-oauthlib<0.5,>=0.4.1->tensorboard<2.1.0,>=2.0.0->tensorflow==2.0) (3.1.0)\n",
            "Requirement already satisfied: zipp>=0.5 in /usr/local/lib/python3.6/dist-packages (from importlib-metadata; python_version < \"3.8\"->markdown>=2.6.8->tensorboard<2.1.0,>=2.0.0->tensorflow==2.0) (3.1.0)\n",
            "\u001b[31mERROR: tf-nightly 2.3.0.dev20200625 has requirement gast==0.3.3, but you'll have gast 0.2.2 which is incompatible.\u001b[0m\n",
            "\u001b[31mERROR: tensorflow-probability 0.10.0 has requirement gast>=0.3.2, but you'll have gast 0.2.2 which is incompatible.\u001b[0m\n",
            "Installing collected packages: gast\n",
            "  Found existing installation: gast 0.3.3\n",
            "    Uninstalling gast-0.3.3:\n",
            "      Successfully uninstalled gast-0.3.3\n",
            "Successfully installed gast-0.2.2\n",
            "Requirement already satisfied: tensorflow_hub in /usr/local/lib/python3.6/dist-packages (0.8.0)\n",
            "Requirement already satisfied: six>=1.12.0 in /usr/local/lib/python3.6/dist-packages (from tensorflow_hub) (1.15.0)\n",
            "Requirement already satisfied: protobuf>=3.8.0 in /usr/local/lib/python3.6/dist-packages (from tensorflow_hub) (3.12.2)\n",
            "Requirement already satisfied: numpy>=1.12.0 in /usr/local/lib/python3.6/dist-packages (from tensorflow_hub) (1.18.5)\n",
            "Requirement already satisfied: setuptools in /usr/local/lib/python3.6/dist-packages (from protobuf>=3.8.0->tensorflow_hub) (47.3.1)\n",
            "Requirement already satisfied: bert-for-tf2 in /usr/local/lib/python3.6/dist-packages (0.14.4)\n",
            "Requirement already satisfied: params-flow>=0.8.0 in /usr/local/lib/python3.6/dist-packages (from bert-for-tf2) (0.8.2)\n",
            "Requirement already satisfied: py-params>=0.9.6 in /usr/local/lib/python3.6/dist-packages (from bert-for-tf2) (0.9.7)\n",
            "Requirement already satisfied: tqdm in /usr/local/lib/python3.6/dist-packages (from params-flow>=0.8.0->bert-for-tf2) (4.41.1)\n",
            "Requirement already satisfied: numpy in /usr/local/lib/python3.6/dist-packages (from params-flow>=0.8.0->bert-for-tf2) (1.18.5)\n",
            "\u001b[31mERROR: tensorflow 2.0.0 has requirement gast==0.2.2, but you'll have gast 0.3.3 which is incompatible.\u001b[0m\n",
            "Collecting tf-nightly\n",
            "  Using cached https://files.pythonhosted.org/packages/3e/4e/21c8f5acccc440174ca335d520fa022159092cba35d78f64c2d5e81775db/tf_nightly-2.3.0.dev20200625-cp36-cp36m-manylinux2010_x86_64.whl\n",
            "Collecting keras-preprocessing<1.2,>=1.1.1\n",
            "  Using cached https://files.pythonhosted.org/packages/79/4c/7c3275a01e12ef9368a892926ab932b33bb13d55794881e3573482b378a7/Keras_Preprocessing-1.1.2-py2.py3-none-any.whl\n",
            "Collecting protobuf>=3.9.2\n",
            "  Using cached https://files.pythonhosted.org/packages/28/05/9867ef8eafd12265267bee138fa2c46ebf34a276ea4cbe184cba4c606e8b/protobuf-3.12.2-cp36-cp36m-manylinux1_x86_64.whl\n",
            "Collecting tb-nightly<2.4.0a0,>=2.3.0a0\n",
            "  Using cached https://files.pythonhosted.org/packages/6c/a4/c05aa72c75f20ab88aa371442c0484eb2828daa176511560bb137f20ad19/tb_nightly-2.3.0a20200625-py3-none-any.whl\n",
            "Collecting h5py<2.11.0,>=2.10.0\n",
            "  Using cached https://files.pythonhosted.org/packages/60/06/cafdd44889200e5438b897388f3075b52a8ef01f28a17366d91de0fa2d05/h5py-2.10.0-cp36-cp36m-manylinux1_x86_64.whl\n",
            "Collecting grpcio>=1.8.6\n",
            "  Using cached https://files.pythonhosted.org/packages/5a/42/262913f967217874ae66734b52077833e2153b7b3a55a45bf996c7ee4833/grpcio-1.30.0-cp36-cp36m-manylinux2010_x86_64.whl\n",
            "Collecting six>=1.12.0\n",
            "  Using cached https://files.pythonhosted.org/packages/ee/ff/48bde5c0f013094d729fe4b0316ba2a24774b3ff1c52d924a8a4cb04078a/six-1.15.0-py2.py3-none-any.whl\n",
            "Collecting tf-estimator-nightly\n",
            "  Using cached https://files.pythonhosted.org/packages/66/61/288442a59aa9d86f3848b0f70df63992c074f895e3857952e9bba5b90c48/tf_estimator_nightly-2.3.0.dev2020062501-py2.py3-none-any.whl\n",
            "Collecting opt-einsum>=2.3.2\n",
            "  Using cached https://files.pythonhosted.org/packages/63/a5/e6c07b08b934831ccb8c98ee335e66b7761c5754ee3cabfe4c11d0b1af28/opt_einsum-3.2.1-py3-none-any.whl\n",
            "Collecting gast==0.3.3\n",
            "  Using cached https://files.pythonhosted.org/packages/d6/84/759f5dd23fec8ba71952d97bcc7e2c9d7d63bdc582421f3cd4be845f0c98/gast-0.3.3-py2.py3-none-any.whl\n",
            "Processing /root/.cache/pip/wheels/7c/06/54/bc84598ba1daf8f970247f550b175aaaee85f68b4b0c5ab2c6/termcolor-1.1.0-cp36-none-any.whl\n",
            "Collecting scipy==1.4.1\n",
            "  Using cached https://files.pythonhosted.org/packages/dc/29/162476fd44203116e7980cfbd9352eef9db37c49445d1fec35509022f6aa/scipy-1.4.1-cp36-cp36m-manylinux1_x86_64.whl\n",
            "Collecting google-pasta>=0.1.8\n",
            "  Using cached https://files.pythonhosted.org/packages/a3/de/c648ef6835192e6e2cc03f40b19eeda4382c49b5bafb43d88b931c4c74ac/google_pasta-0.2.0-py3-none-any.whl\n",
            "Processing /root/.cache/pip/wheels/8e/28/49/fad4e7f0b9a1227708cbbee4487ac8558a7334849cb81c813d/absl_py-0.9.0-cp36-none-any.whl\n",
            "Processing /root/.cache/pip/wheels/b1/c2/ed/d62208260edbd3fa7156545c00ef966f45f2063d0a84f8208a/wrapt-1.12.1-cp36-cp36m-linux_x86_64.whl\n",
            "Collecting astunparse==1.6.3\n",
            "  Using cached https://files.pythonhosted.org/packages/2b/03/13dde6512ad7b4557eb792fbcf0c653af6076b81e5941d36ec61f7ce6028/astunparse-1.6.3-py2.py3-none-any.whl\n",
            "Collecting numpy<1.19.0,>=1.16.0\n",
            "  Using cached https://files.pythonhosted.org/packages/b3/a9/b1bc4c935ed063766bce7d3e8c7b20bd52e515ff1c732b02caacf7918e5a/numpy-1.18.5-cp36-cp36m-manylinux1_x86_64.whl\n",
            "Collecting wheel>=0.26\n",
            "  Using cached https://files.pythonhosted.org/packages/8c/23/848298cccf8e40f5bbb59009b32848a4c38f4e7f3364297ab3c3e2e2cd14/wheel-0.34.2-py2.py3-none-any.whl\n",
            "Collecting setuptools\n",
            "  Using cached https://files.pythonhosted.org/packages/e9/93/4860cebd5ad3ff2664ad3c966490ccb46e3b88458b2095145bca11727ca4/setuptools-47.3.1-py3-none-any.whl\n",
            "Collecting google-auth-oauthlib<0.5,>=0.4.1\n",
            "  Using cached https://files.pythonhosted.org/packages/7b/b8/88def36e74bee9fce511c9519571f4e485e890093ab7442284f4ffaef60b/google_auth_oauthlib-0.4.1-py2.py3-none-any.whl\n",
            "Collecting tensorboard-plugin-wit>=1.6.0\n",
            "  Using cached https://files.pythonhosted.org/packages/51/cd/a0c1f9e4582ea64dddf76c1b808b318d01e3b858a51c715bffab1016ecc7/tensorboard_plugin_wit-1.6.0.post3-py3-none-any.whl\n",
            "Collecting werkzeug>=0.11.15\n",
            "  Using cached https://files.pythonhosted.org/packages/cc/94/5f7079a0e00bd6863ef8f1da638721e9da21e5bacee597595b318f71d62e/Werkzeug-1.0.1-py2.py3-none-any.whl\n",
            "Collecting google-auth<2,>=1.6.3\n",
            "  Using cached https://files.pythonhosted.org/packages/21/57/d706964a7e4056f3f2244e16705388c11631fbb53d3e2d2a2d0fbc24d470/google_auth-1.18.0-py2.py3-none-any.whl\n",
            "Collecting markdown>=2.6.8\n",
            "  Using cached https://files.pythonhosted.org/packages/a4/63/eaec2bd025ab48c754b55e8819af0f6a69e2b1e187611dd40cbbe101ee7f/Markdown-3.2.2-py3-none-any.whl\n",
            "Collecting requests<3,>=2.21.0\n",
            "  Using cached https://files.pythonhosted.org/packages/45/1e/0c169c6a5381e241ba7404532c16a21d86ab872c9bed8bdcd4c423954103/requests-2.24.0-py2.py3-none-any.whl\n",
            "Collecting requests-oauthlib>=0.7.0\n",
            "  Using cached https://files.pythonhosted.org/packages/a3/12/b92740d845ab62ea4edf04d2f4164d82532b5a0b03836d4d4e71c6f3d379/requests_oauthlib-1.3.0-py2.py3-none-any.whl\n",
            "Collecting rsa<5,>=3.1.4; python_version >= \"3\"\n",
            "  Using cached https://files.pythonhosted.org/packages/1c/df/c3587a667d6b308fadc90b99e8bc8774788d033efcc70f4ecaae7fad144b/rsa-4.6-py3-none-any.whl\n",
            "Collecting cachetools<5.0,>=2.0.0\n",
            "  Using cached https://files.pythonhosted.org/packages/b3/59/524ffb454d05001e2be74c14745b485681c6ed5f2e625f71d135704c0909/cachetools-4.1.0-py3-none-any.whl\n",
            "Collecting pyasn1-modules>=0.2.1\n",
            "  Using cached https://files.pythonhosted.org/packages/95/de/214830a981892a3e286c3794f41ae67a4495df1108c3da8a9f62159b9a9d/pyasn1_modules-0.2.8-py2.py3-none-any.whl\n",
            "Collecting importlib-metadata; python_version < \"3.8\"\n",
            "  Using cached https://files.pythonhosted.org/packages/98/13/a1d703ec396ade42c1d33df0e1cb691a28b7c08b336a5683912c87e04cd7/importlib_metadata-1.6.1-py2.py3-none-any.whl\n",
            "Collecting urllib3!=1.25.0,!=1.25.1,<1.26,>=1.21.1\n",
            "  Using cached https://files.pythonhosted.org/packages/e1/e5/df302e8017440f111c11cc41a6b432838672f5a70aa29227bf58149dc72f/urllib3-1.25.9-py2.py3-none-any.whl\n",
            "Collecting idna<3,>=2.5\n",
            "  Using cached https://files.pythonhosted.org/packages/89/e3/afebe61c546d18fb1709a61bee788254b40e736cff7271c7de5de2dc4128/idna-2.9-py2.py3-none-any.whl\n",
            "Collecting chardet<4,>=3.0.2\n",
            "  Using cached https://files.pythonhosted.org/packages/bc/a9/01ffebfb562e4274b6487b4bb1ddec7ca55ec7510b22e4c51f14098443b8/chardet-3.0.4-py2.py3-none-any.whl\n",
            "Collecting certifi>=2017.4.17\n",
            "  Using cached https://files.pythonhosted.org/packages/5e/c4/6c4fe722df5343c33226f0b4e0bb042e4dc13483228b4718baf286f86d87/certifi-2020.6.20-py2.py3-none-any.whl\n",
            "Collecting oauthlib>=3.0.0\n",
            "  Using cached https://files.pythonhosted.org/packages/05/57/ce2e7a8fa7c0afb54a0581b14a65b56e62b5759dbc98e80627142b8a3704/oauthlib-3.1.0-py2.py3-none-any.whl\n",
            "Collecting pyasn1>=0.1.3\n",
            "  Using cached https://files.pythonhosted.org/packages/62/1e/a94a8d635fa3ce4cfc7f506003548d0a2447ae76fd5ca53932970fe3053f/pyasn1-0.4.8-py2.py3-none-any.whl\n",
            "Collecting zipp>=0.5\n",
            "  Using cached https://files.pythonhosted.org/packages/b2/34/bfcb43cc0ba81f527bc4f40ef41ba2ff4080e047acb0586b56b3d017ace4/zipp-3.1.0-py3-none-any.whl\n",
            "\u001b[31mERROR: tensorflow 2.0.0 has requirement gast==0.2.2, but you'll have gast 0.3.3 which is incompatible.\u001b[0m\n",
            "\u001b[31mERROR: kaggle 1.5.6 has requirement urllib3<1.25,>=1.21.1, but you'll have urllib3 1.25.9 which is incompatible.\u001b[0m\n",
            "\u001b[31mERROR: google-colab 1.0.0 has requirement google-auth~=1.17.2, but you'll have google-auth 1.18.0 which is incompatible.\u001b[0m\n",
            "\u001b[31mERROR: google-colab 1.0.0 has requirement requests~=2.23.0, but you'll have requests 2.24.0 which is incompatible.\u001b[0m\n",
            "\u001b[31mERROR: google-colab 1.0.0 has requirement six~=1.12.0, but you'll have six 1.15.0 which is incompatible.\u001b[0m\n",
            "\u001b[31mERROR: datascience 0.10.6 has requirement folium==0.2.1, but you'll have folium 0.8.3 which is incompatible.\u001b[0m\n",
            "\u001b[31mERROR: albumentations 0.1.12 has requirement imgaug<0.2.7,>=0.2.5, but you'll have imgaug 0.2.9 which is incompatible.\u001b[0m\n",
            "Installing collected packages: numpy, six, keras-preprocessing, setuptools, protobuf, oauthlib, urllib3, idna, chardet, certifi, requests, requests-oauthlib, pyasn1, rsa, cachetools, pyasn1-modules, google-auth, google-auth-oauthlib, absl-py, grpcio, tensorboard-plugin-wit, wheel, werkzeug, zipp, importlib-metadata, markdown, tb-nightly, h5py, tf-estimator-nightly, opt-einsum, gast, termcolor, scipy, google-pasta, wrapt, astunparse, tf-nightly\n",
            "Successfully installed absl-py-0.9.0 astunparse-1.6.3 cachetools-4.1.0 certifi-2020.6.20 chardet-3.0.4 gast-0.3.3 google-auth-1.18.0 google-auth-oauthlib-0.4.1 google-pasta-0.2.0 grpcio-1.30.0 h5py-2.10.0 idna-2.9 importlib-metadata-1.6.1 keras-preprocessing-1.1.2 markdown-3.2.2 numpy-1.18.5 oauthlib-3.1.0 opt-einsum-3.2.1 protobuf-3.12.2 pyasn1-0.4.8 pyasn1-modules-0.2.8 requests-2.24.0 requests-oauthlib-1.3.0 rsa-4.6 scipy-1.4.1 setuptools-47.3.1 six-1.15.0 tb-nightly-2.3.0a20200625 tensorboard-plugin-wit-1.6.0.post3 termcolor-1.1.0 tf-estimator-nightly-2.3.0.dev2020062501 tf-nightly-2.3.0.dev20200625 urllib3-1.25.9 werkzeug-1.0.1 wheel-0.34.2 wrapt-1.12.1 zipp-3.1.0\n"
          ],
          "name": "stdout"
        },
        {
          "output_type": "display_data",
          "data": {
            "application/vnd.colab-display-data+json": {
              "pip_warning": {
                "packages": [
                  "cachetools",
                  "certifi",
                  "chardet",
                  "google",
                  "grpc",
                  "idna",
                  "numpy",
                  "pkg_resources",
                  "pyasn1",
                  "pyasn1_modules",
                  "requests",
                  "rsa",
                  "six",
                  "urllib3"
                ]
              }
            }
          },
          "metadata": {
            "tags": []
          }
        }
      ]
    },
    {
      "cell_type": "markdown",
      "metadata": {
        "id": "pFcS78ZpjlEG",
        "colab_type": "text"
      },
      "source": [
        "Runtime muss neugestartet werden, damit Installationen funktionieren."
      ]
    },
    {
      "cell_type": "code",
      "metadata": {
        "id": "4rFQlpwJ3Pph",
        "colab_type": "code",
        "colab": {}
      },
      "source": [
        "#Restart runtime because of pip installs\n",
        "import os\n",
        "\n",
        "def restart_runtime():\n",
        "  os.kill(os.getpid(), 9)\n",
        "\n",
        "restart_runtime()"
      ],
      "execution_count": null,
      "outputs": []
    },
    {
      "cell_type": "code",
      "metadata": {
        "id": "JpLKBlJe3QpO",
        "colab_type": "code",
        "colab": {
          "base_uri": "https://localhost:8080/",
          "height": 35
        },
        "outputId": "842d240b-fcd6-4860-ae62-04931906da08"
      },
      "source": [
        "from google.colab import drive\n",
        "drive.mount('/content/drive')"
      ],
      "execution_count": null,
      "outputs": [
        {
          "output_type": "stream",
          "text": [
            "Drive already mounted at /content/drive; to attempt to forcibly remount, call drive.mount(\"/content/drive\", force_remount=True).\n"
          ],
          "name": "stdout"
        }
      ]
    },
    {
      "cell_type": "code",
      "metadata": {
        "id": "MpkrRDEEtwDx",
        "colab_type": "code",
        "colab": {
          "base_uri": "https://localhost:8080/",
          "height": 909
        },
        "outputId": "0b93c8c4-13b4-42b3-db11-be125368f8d4"
      },
      "source": [
        "import nltk\n",
        "nltk.download(\"popular\")"
      ],
      "execution_count": null,
      "outputs": [
        {
          "output_type": "stream",
          "text": [
            "[nltk_data] Downloading collection 'popular'\n",
            "[nltk_data]    | \n",
            "[nltk_data]    | Downloading package cmudict to /root/nltk_data...\n",
            "[nltk_data]    |   Package cmudict is already up-to-date!\n",
            "[nltk_data]    | Downloading package gazetteers to /root/nltk_data...\n",
            "[nltk_data]    |   Package gazetteers is already up-to-date!\n",
            "[nltk_data]    | Downloading package genesis to /root/nltk_data...\n",
            "[nltk_data]    |   Package genesis is already up-to-date!\n",
            "[nltk_data]    | Downloading package gutenberg to /root/nltk_data...\n",
            "[nltk_data]    |   Package gutenberg is already up-to-date!\n",
            "[nltk_data]    | Downloading package inaugural to /root/nltk_data...\n",
            "[nltk_data]    |   Package inaugural is already up-to-date!\n",
            "[nltk_data]    | Downloading package movie_reviews to\n",
            "[nltk_data]    |     /root/nltk_data...\n",
            "[nltk_data]    |   Package movie_reviews is already up-to-date!\n",
            "[nltk_data]    | Downloading package names to /root/nltk_data...\n",
            "[nltk_data]    |   Package names is already up-to-date!\n",
            "[nltk_data]    | Downloading package shakespeare to /root/nltk_data...\n",
            "[nltk_data]    |   Package shakespeare is already up-to-date!\n",
            "[nltk_data]    | Downloading package stopwords to /root/nltk_data...\n",
            "[nltk_data]    |   Package stopwords is already up-to-date!\n",
            "[nltk_data]    | Downloading package treebank to /root/nltk_data...\n",
            "[nltk_data]    |   Package treebank is already up-to-date!\n",
            "[nltk_data]    | Downloading package twitter_samples to\n",
            "[nltk_data]    |     /root/nltk_data...\n",
            "[nltk_data]    |   Package twitter_samples is already up-to-date!\n",
            "[nltk_data]    | Downloading package omw to /root/nltk_data...\n",
            "[nltk_data]    |   Package omw is already up-to-date!\n",
            "[nltk_data]    | Downloading package wordnet to /root/nltk_data...\n",
            "[nltk_data]    |   Package wordnet is already up-to-date!\n",
            "[nltk_data]    | Downloading package wordnet_ic to /root/nltk_data...\n",
            "[nltk_data]    |   Package wordnet_ic is already up-to-date!\n",
            "[nltk_data]    | Downloading package words to /root/nltk_data...\n",
            "[nltk_data]    |   Package words is already up-to-date!\n",
            "[nltk_data]    | Downloading package maxent_ne_chunker to\n",
            "[nltk_data]    |     /root/nltk_data...\n",
            "[nltk_data]    |   Package maxent_ne_chunker is already up-to-date!\n",
            "[nltk_data]    | Downloading package punkt to /root/nltk_data...\n",
            "[nltk_data]    |   Package punkt is already up-to-date!\n",
            "[nltk_data]    | Downloading package snowball_data to\n",
            "[nltk_data]    |     /root/nltk_data...\n",
            "[nltk_data]    |   Package snowball_data is already up-to-date!\n",
            "[nltk_data]    | Downloading package averaged_perceptron_tagger to\n",
            "[nltk_data]    |     /root/nltk_data...\n",
            "[nltk_data]    |   Package averaged_perceptron_tagger is already up-\n",
            "[nltk_data]    |       to-date!\n",
            "[nltk_data]    | \n",
            "[nltk_data]  Done downloading collection popular\n"
          ],
          "name": "stdout"
        },
        {
          "output_type": "execute_result",
          "data": {
            "text/plain": [
              "True"
            ]
          },
          "metadata": {
            "tags": []
          },
          "execution_count": 2
        }
      ]
    },
    {
      "cell_type": "code",
      "metadata": {
        "id": "N9OImImpyJjq",
        "colab_type": "code",
        "colab": {
          "base_uri": "https://localhost:8080/",
          "height": 73
        },
        "outputId": "093d31c1-80ba-4f7f-e79f-4f54ed845e39"
      },
      "source": [
        "#imports\n",
        "import matplotlib.pyplot as plt\n",
        "import seaborn as sns\n",
        "import numpy as np\n",
        "import pandas as pd\n",
        "import string\n",
        "import re\n",
        "from collections import  Counter\n",
        "from nltk.corpus import stopwords\n",
        "from nltk.tokenize import word_tokenize\n",
        "stop= stopwords.words('english')\n",
        "\n",
        "import tensorflow_hub as hub\n",
        "import tensorflow as tf\n",
        "from tensorflow.keras.layers import Dense\n",
        "import bert\n",
        "from tensorflow.keras.models import Model\n",
        "import math"
      ],
      "execution_count": null,
      "outputs": [
        {
          "output_type": "stream",
          "text": [
            "/usr/local/lib/python3.6/dist-packages/statsmodels/tools/_testing.py:19: FutureWarning: pandas.util.testing is deprecated. Use the functions in the public API at pandas.testing instead.\n",
            "  import pandas.util.testing as tm\n"
          ],
          "name": "stderr"
        }
      ]
    },
    {
      "cell_type": "markdown",
      "metadata": {
        "id": "X7DCF1aP0pyK",
        "colab_type": "text"
      },
      "source": [
        "Zunächst werden die Dateien in Form von DataFrames importiert."
      ]
    },
    {
      "cell_type": "code",
      "metadata": {
        "id": "-cWlsJcS0fQS",
        "colab_type": "code",
        "colab": {}
      },
      "source": [
        "train = pd.read_csv('/content/DataScienceProjekt/train.csv') \n",
        "test = pd.read_csv('/content/DataScienceProjekt/test.csv')"
      ],
      "execution_count": null,
      "outputs": []
    },
    {
      "cell_type": "markdown",
      "metadata": {
        "id": "QN3PlrSZxngd",
        "colab_type": "text"
      },
      "source": [
        "###Data Visualization"
      ]
    },
    {
      "cell_type": "markdown",
      "metadata": {
        "id": "N6hJU-XD20aQ",
        "colab_type": "text"
      },
      "source": [
        "Zur Übersicht werden die Daten erst einmal ausgegeben."
      ]
    },
    {
      "cell_type": "code",
      "metadata": {
        "id": "e3Xztu-l16uH",
        "colab_type": "code",
        "colab": {
          "base_uri": "https://localhost:8080/",
          "height": 206
        },
        "outputId": "e5fcb673-c7fe-4829-b842-69c3b367299e"
      },
      "source": [
        "train.head()"
      ],
      "execution_count": null,
      "outputs": [
        {
          "output_type": "execute_result",
          "data": {
            "text/html": [
              "<div>\n",
              "<style scoped>\n",
              "    .dataframe tbody tr th:only-of-type {\n",
              "        vertical-align: middle;\n",
              "    }\n",
              "\n",
              "    .dataframe tbody tr th {\n",
              "        vertical-align: top;\n",
              "    }\n",
              "\n",
              "    .dataframe thead th {\n",
              "        text-align: right;\n",
              "    }\n",
              "</style>\n",
              "<table border=\"1\" class=\"dataframe\">\n",
              "  <thead>\n",
              "    <tr style=\"text-align: right;\">\n",
              "      <th></th>\n",
              "      <th>id</th>\n",
              "      <th>keyword</th>\n",
              "      <th>location</th>\n",
              "      <th>text</th>\n",
              "      <th>target</th>\n",
              "    </tr>\n",
              "  </thead>\n",
              "  <tbody>\n",
              "    <tr>\n",
              "      <th>0</th>\n",
              "      <td>1</td>\n",
              "      <td>NaN</td>\n",
              "      <td>NaN</td>\n",
              "      <td>Our Deeds are the Reason of this #earthquake M...</td>\n",
              "      <td>1</td>\n",
              "    </tr>\n",
              "    <tr>\n",
              "      <th>1</th>\n",
              "      <td>4</td>\n",
              "      <td>NaN</td>\n",
              "      <td>NaN</td>\n",
              "      <td>Forest fire near La Ronge Sask. Canada</td>\n",
              "      <td>1</td>\n",
              "    </tr>\n",
              "    <tr>\n",
              "      <th>2</th>\n",
              "      <td>5</td>\n",
              "      <td>NaN</td>\n",
              "      <td>NaN</td>\n",
              "      <td>All residents asked to 'shelter in place' are ...</td>\n",
              "      <td>1</td>\n",
              "    </tr>\n",
              "    <tr>\n",
              "      <th>3</th>\n",
              "      <td>6</td>\n",
              "      <td>NaN</td>\n",
              "      <td>NaN</td>\n",
              "      <td>13,000 people receive #wildfires evacuation or...</td>\n",
              "      <td>1</td>\n",
              "    </tr>\n",
              "    <tr>\n",
              "      <th>4</th>\n",
              "      <td>7</td>\n",
              "      <td>NaN</td>\n",
              "      <td>NaN</td>\n",
              "      <td>Just got sent this photo from Ruby #Alaska as ...</td>\n",
              "      <td>1</td>\n",
              "    </tr>\n",
              "  </tbody>\n",
              "</table>\n",
              "</div>"
            ],
            "text/plain": [
              "   id keyword  ...                                               text target\n",
              "0   1     NaN  ...  Our Deeds are the Reason of this #earthquake M...      1\n",
              "1   4     NaN  ...             Forest fire near La Ronge Sask. Canada      1\n",
              "2   5     NaN  ...  All residents asked to 'shelter in place' are ...      1\n",
              "3   6     NaN  ...  13,000 people receive #wildfires evacuation or...      1\n",
              "4   7     NaN  ...  Just got sent this photo from Ruby #Alaska as ...      1\n",
              "\n",
              "[5 rows x 5 columns]"
            ]
          },
          "metadata": {
            "tags": []
          },
          "execution_count": 5
        }
      ]
    },
    {
      "cell_type": "markdown",
      "metadata": {
        "id": "mNmviAyI6M1I",
        "colab_type": "text"
      },
      "source": [
        "die Form der Daten sieht wie folgt aus"
      ]
    },
    {
      "cell_type": "code",
      "metadata": {
        "id": "VNgT5P4u2yVz",
        "colab_type": "code",
        "colab": {
          "base_uri": "https://localhost:8080/",
          "height": 53
        },
        "outputId": "389ceb4f-1075-4b39-90d4-9ee02039f595"
      },
      "source": [
        "print('There are {} rows and {} columns in train'.format(train.shape[0],train.shape[1]))\n",
        "print('There are {} rows and {} columns in train'.format(test.shape[0],test.shape[1]))"
      ],
      "execution_count": null,
      "outputs": [
        {
          "output_type": "stream",
          "text": [
            "There are 7613 rows and 5 columns in train\n",
            "There are 3263 rows and 4 columns in train\n"
          ],
          "name": "stdout"
        }
      ]
    },
    {
      "cell_type": "markdown",
      "metadata": {
        "id": "zcPsiKAgBRl6",
        "colab_type": "text"
      },
      "source": [
        "um die Daten genauer anzusehen, werden zunächst Beispiel Tweets angezeigt. Dazu wird angeschaut bei welchen Tweets es sich um Disaster Tweets handelt."
      ]
    },
    {
      "cell_type": "code",
      "metadata": {
        "id": "9HbnfFTqBPhY",
        "colab_type": "code",
        "colab": {
          "base_uri": "https://localhost:8080/",
          "height": 563
        },
        "outputId": "c8fa8d7c-f6c4-4606-81f7-52a1f441784a"
      },
      "source": [
        "for i in range(30):\n",
        "    print(train.text[i], \"        Desaster Tweet:\", train.target[i])"
      ],
      "execution_count": null,
      "outputs": [
        {
          "output_type": "stream",
          "text": [
            "Our Deeds are the Reason of this #earthquake May ALLAH Forgive us all         Desaster Tweet: 1\n",
            "Forest fire near La Ronge Sask. Canada         Desaster Tweet: 1\n",
            "All residents asked to 'shelter in place' are being notified by officers. No other evacuation or shelter in place orders are expected         Desaster Tweet: 1\n",
            "13,000 people receive #wildfires evacuation orders in California          Desaster Tweet: 1\n",
            "Just got sent this photo from Ruby #Alaska as smoke from #wildfires pours into a school          Desaster Tweet: 1\n",
            "#RockyFire Update => California Hwy. 20 closed in both directions due to Lake County fire - #CAfire #wildfires         Desaster Tweet: 1\n",
            "#flood #disaster Heavy rain causes flash flooding of streets in Manitou, Colorado Springs areas         Desaster Tweet: 1\n",
            "I'm on top of the hill and I can see a fire in the woods...         Desaster Tweet: 1\n",
            "There's an emergency evacuation happening now in the building across the street         Desaster Tweet: 1\n",
            "I'm afraid that the tornado is coming to our area...         Desaster Tweet: 1\n",
            "Three people died from the heat wave so far         Desaster Tweet: 1\n",
            "Haha South Tampa is getting flooded hah- WAIT A SECOND I LIVE IN SOUTH TAMPA WHAT AM I GONNA DO WHAT AM I GONNA DO FVCK #flooding         Desaster Tweet: 1\n",
            "#raining #flooding #Florida #TampaBay #Tampa 18 or 19 days. I've lost count          Desaster Tweet: 1\n",
            "#Flood in Bago Myanmar #We arrived Bago         Desaster Tweet: 1\n",
            "Damage to school bus on 80 in multi car crash #BREAKING          Desaster Tweet: 1\n",
            "What's up man?         Desaster Tweet: 0\n",
            "I love fruits         Desaster Tweet: 0\n",
            "Summer is lovely         Desaster Tweet: 0\n",
            "My car is so fast         Desaster Tweet: 0\n",
            "What a goooooooaaaaaal!!!!!!         Desaster Tweet: 0\n",
            "this is ridiculous....         Desaster Tweet: 0\n",
            "London is cool ;)         Desaster Tweet: 0\n",
            "Love skiing         Desaster Tweet: 0\n",
            "What a wonderful day!         Desaster Tweet: 0\n",
            "LOOOOOOL         Desaster Tweet: 0\n",
            "No way...I can't eat that shit         Desaster Tweet: 0\n",
            "Was in NYC last week!         Desaster Tweet: 0\n",
            "Love my girlfriend         Desaster Tweet: 0\n",
            "Cooool :)         Desaster Tweet: 0\n",
            "Do you like pasta?         Desaster Tweet: 0\n"
          ],
          "name": "stdout"
        }
      ]
    },
    {
      "cell_type": "markdown",
      "metadata": {
        "id": "oc9v9e026K-8",
        "colab_type": "text"
      },
      "source": [
        "Es wird die Klassenverteilung geplottet"
      ]
    },
    {
      "cell_type": "code",
      "metadata": {
        "id": "tWl7OmiC2zqZ",
        "colab_type": "code",
        "colab": {
          "base_uri": "https://localhost:8080/",
          "height": 283
        },
        "outputId": "3ca16518-5842-491f-d15c-d9ebedbee030"
      },
      "source": [
        "x=train.target.value_counts()\n",
        "sns.barplot(x.index,x)\n",
        "plt.gca().set_ylabel('samples')"
      ],
      "execution_count": null,
      "outputs": [
        {
          "output_type": "execute_result",
          "data": {
            "text/plain": [
              "Text(0, 0.5, 'samples')"
            ]
          },
          "metadata": {
            "tags": []
          },
          "execution_count": 8
        },
        {
          "output_type": "display_data",
          "data": {
            "image/png": "[encoded data removed]",
            "text/plain": [
              "<Figure size 432x288 with 1 Axes>"
            ]
          },
          "metadata": {
            "tags": [],
            "needs_background": "light"
          }
        }
      ]
    },
    {
      "cell_type": "markdown",
      "metadata": {
        "id": "nNKPMrvyNhLM",
        "colab_type": "text"
      },
      "source": [
        "Um sich ein genaueres Bild von Disaster vs Non-Disaster Tweets zu machen, werden einige Eigenschaften von beiden Arten von Tweets gegenübergestellt."
      ]
    },
    {
      "cell_type": "code",
      "metadata": {
        "id": "hmZEeJBs5EMH",
        "colab_type": "code",
        "colab": {
          "base_uri": "https://localhost:8080/",
          "height": 356
        },
        "outputId": "83514590-b2f5-40a9-fc4b-fe3b32bac6a6"
      },
      "source": [
        "fig,(ax1,ax2)=plt.subplots(1,2,figsize=(10,5))\n",
        "tweet_len=train[train['target']==1]['text'].str.split().map(lambda x: len(x))\n",
        "ax1.hist(tweet_len,color='firebrick')\n",
        "ax1.set_title('disaster tweets')\n",
        "tweet_len=train[train['target']==0]['text'].str.split().map(lambda x: len(x))\n",
        "ax2.hist(tweet_len,color='royalblue')\n",
        "ax2.set_title('Not disaster tweets')\n",
        "fig.suptitle('Words in a tweet')\n",
        "plt.show()"
      ],
      "execution_count": null,
      "outputs": [
        {
          "output_type": "display_data",
          "data": {
            "image/png": "[encoded data removed]",
            "text/plain": [
              "<Figure size 720x360 with 2 Axes>"
            ]
          },
          "metadata": {
            "tags": [],
            "needs_background": "light"
          }
        }
      ]
    },
    {
      "cell_type": "markdown",
      "metadata": {
        "id": "22BxYWo3NxG7",
        "colab_type": "text"
      },
      "source": [
        "anhand der Wort Menge kann man erkennen, dass disaster Tweets tendenziell weniger Wörter beinhalten."
      ]
    },
    {
      "cell_type": "code",
      "metadata": {
        "id": "VprsQVhrMf-K",
        "colab_type": "code",
        "colab": {
          "base_uri": "https://localhost:8080/",
          "height": 388
        },
        "outputId": "3c54ba5c-2e1e-40ef-e1c6-a718f51fad1a"
      },
      "source": [
        "fig,(ax1,ax2)=plt.subplots(1,2,figsize=(10,5))\n",
        "word=train[train['target']==1]['text'].str.split().apply(lambda x : [len(i) for i in x])\n",
        "sns.distplot(word.map(lambda x: np.mean(x)),ax=ax1,color='firebrick')\n",
        "ax1.set_title('disaster')\n",
        "word=train[train['target']==0]['text'].str.split().apply(lambda x : [len(i) for i in x])\n",
        "sns.distplot(word.map(lambda x: np.mean(x)),ax=ax2,color='royalblue')\n",
        "ax2.set_title('Not disaster')\n",
        "fig.suptitle('Average word length in each tweet')"
      ],
      "execution_count": null,
      "outputs": [
        {
          "output_type": "execute_result",
          "data": {
            "text/plain": [
              "Text(0.5, 0.98, 'Average word length in each tweet')"
            ]
          },
          "metadata": {
            "tags": []
          },
          "execution_count": 10
        },
        {
          "output_type": "display_data",
          "data": {
            "image/png": "[encoded data removed]",
            "text/plain": [
              "<Figure size 720x360 with 2 Axes>"
            ]
          },
          "metadata": {
            "tags": [],
            "needs_background": "light"
          }
        }
      ]
    },
    {
      "cell_type": "markdown",
      "metadata": {
        "id": "QBrjL69ASpG6",
        "colab_type": "text"
      },
      "source": [
        "anhand der Wortlänge lässt sich kein signifikanter Unterschied erkennen.\n",
        "Jedoch beinhalten disaster Tweets auf den ersten Blick etwas längere Wörter."
      ]
    },
    {
      "cell_type": "code",
      "metadata": {
        "id": "TfhZbSZEP1Ey",
        "colab_type": "code",
        "colab": {}
      },
      "source": [
        "def create_corpus(target):\n",
        "    corpus=[]\n",
        "    \n",
        "    for x in train[train['target']==target]['text'].str.split():\n",
        "        for i in x:\n",
        "            corpus.append(i)\n",
        "    return corpus"
      ],
      "execution_count": null,
      "outputs": []
    },
    {
      "cell_type": "code",
      "metadata": {
        "id": "MFLqf5iOV_ms",
        "colab_type": "code",
        "colab": {}
      },
      "source": [
        "disaster = create_corpus(1)\n",
        "non_disaster = create_corpus(0)"
      ],
      "execution_count": null,
      "outputs": []
    },
    {
      "cell_type": "code",
      "metadata": {
        "id": "6Ne1_X5vXwHL",
        "colab_type": "code",
        "colab": {}
      },
      "source": [
        "#print(disaster)"
      ],
      "execution_count": null,
      "outputs": []
    },
    {
      "cell_type": "markdown",
      "metadata": {
        "id": "Zv7XQR1uZPpK",
        "colab_type": "text"
      },
      "source": [
        "Überprüfe Anzahl an Hashtags pro Tweet"
      ]
    },
    {
      "cell_type": "code",
      "metadata": {
        "id": "7qPU-nJrZuxk",
        "colab_type": "code",
        "colab": {
          "base_uri": "https://localhost:8080/",
          "height": 374
        },
        "outputId": "fc4e1a9b-eaca-44b9-de59-2060bb12b245"
      },
      "source": [
        "fig,(ax1,ax2)=plt.subplots(1,2,figsize=(10,5))\n",
        "hashtags=train[train['target']==1]['text'].str.split().apply(lambda x : sum(i.startswith('#') for i in x))\n",
        "ax1.hist(hashtags,color='firebrick')\n",
        "ax1.set_ylim(0, 300)\n",
        "ax1.set_title('disaster')\n",
        "hashtags=train[train['target']==0]['text'].str.split().apply(lambda x : sum(i.startswith('#') for i in x))\n",
        "ax2.hist(hashtags,color='royalblue')\n",
        "ax2.set_ylim(0, 300)\n",
        "ax2.set_title('Not disaster')\n",
        "fig.suptitle('Number of Hashtags in each tweet')"
      ],
      "execution_count": null,
      "outputs": [
        {
          "output_type": "execute_result",
          "data": {
            "text/plain": [
              "Text(0.5, 0.98, 'Number of Hashtags in each tweet')"
            ]
          },
          "metadata": {
            "tags": []
          },
          "execution_count": 14
        },
        {
          "output_type": "display_data",
          "data": {
            "image/png": "[encoded data removed]",
            "text/plain": [
              "<Figure size 720x360 with 2 Axes>"
            ]
          },
          "metadata": {
            "tags": [],
            "needs_background": "light"
          }
        }
      ]
    },
    {
      "cell_type": "markdown",
      "metadata": {
        "id": "C_f-NmjEkpvv",
        "colab_type": "text"
      },
      "source": [
        "viele Tweets haben keine Hashtags. Tendenziell haben disaster Tweets eher weniger Hashtags. Jedoch nicht signifikant."
      ]
    },
    {
      "cell_type": "markdown",
      "metadata": {
        "id": "FfoTpWCipqbr",
        "colab_type": "text"
      },
      "source": [
        "Welches sind die am häufigsten verwendeten Wörter?"
      ]
    },
    {
      "cell_type": "code",
      "metadata": {
        "id": "HNbmcR_haJDh",
        "colab_type": "code",
        "colab": {}
      },
      "source": [
        "def common_words(corpus):\n",
        "  counter=Counter(corpus)\n",
        "  most=counter.most_common()\n",
        "  x=[]\n",
        "  y=[]\n",
        "  for word,count in most[:40]:\n",
        "      if (word not in stop) :\n",
        "        x.append(word)\n",
        "        y.append(count)\n",
        "\n",
        "  return x, y"
      ],
      "execution_count": null,
      "outputs": []
    },
    {
      "cell_type": "code",
      "metadata": {
        "id": "HNgeCmB4Aqmq",
        "colab_type": "code",
        "colab": {}
      },
      "source": [
        "def plot_common_words(disaster, non_disaster):\n",
        "  disaster_x, disaster_y = common_words(disaster)\n",
        "  non_disaster_x, non_disaster_y = common_words(non_disaster)\n",
        "\n",
        "  fig,(ax1,ax2)=plt.subplots(1,2,figsize=(40,10))\n",
        "  ax1.barh(disaster_x, disaster_y)\n",
        "  ax1.set_title('disaster')\n",
        "\n",
        "  ax2.barh(non_disaster_x, non_disaster_y)\n",
        "  ax2.set_title('non disaster')"
      ],
      "execution_count": null,
      "outputs": []
    },
    {
      "cell_type": "code",
      "metadata": {
        "id": "Y360HgIOp6dI",
        "colab_type": "code",
        "colab": {
          "base_uri": "https://localhost:8080/",
          "height": 407
        },
        "outputId": "9dbb89ca-cab2-426b-8f40-f76adce5bad3"
      },
      "source": [
        "plot_common_words(disaster, non_disaster)"
      ],
      "execution_count": null,
      "outputs": [
        {
          "output_type": "display_data",
          "data": {
            "image/png": "[encoded data removed]",
            "text/plain": [
              "<Figure size 2880x720 with 2 Axes>"
            ]
          },
          "metadata": {
            "tags": [],
            "needs_background": "light"
          }
        }
      ]
    },
    {
      "cell_type": "markdown",
      "metadata": {
        "id": "79OBqy3C5pzW",
        "colab_type": "text"
      },
      "source": [
        "Hier schauen wir uns die keywords der Tweets an, die am häufigsten verwendet wurden."
      ]
    },
    {
      "cell_type": "code",
      "metadata": {
        "id": "2Oh3rdtu5oAC",
        "colab_type": "code",
        "colab": {
          "base_uri": "https://localhost:8080/",
          "height": 537
        },
        "outputId": "db5411e3-8c66-4d67-9641-28661a2ab476"
      },
      "source": [
        "keywords=train['keyword'].value_counts()\n",
        "fig, ax = plt.subplots(figsize =(16, 9))\n",
        "\n",
        "keys = list(keywords.keys()[:40]) \n",
        "values = list(keywords[:40])\n",
        "# Horizontal Bar Plot \n",
        "ax.barh(keys,values, color='darkgray') \n",
        "# Show Plot \n",
        "plt.show()"
      ],
      "execution_count": null,
      "outputs": [
        {
          "output_type": "display_data",
          "data": {
            "image/png": "[encoded data removed]",
            "text/plain": [
              "<Figure size 1152x648 with 1 Axes>"
            ]
          },
          "metadata": {
            "tags": [],
            "needs_background": "light"
          }
        }
      ]
    },
    {
      "cell_type": "markdown",
      "metadata": {
        "id": "A08IPl7_6_e0",
        "colab_type": "text"
      },
      "source": [
        "Zudem ist es interessant, an welchem Ort die meisten Tweets stattfanden."
      ]
    },
    {
      "cell_type": "code",
      "metadata": {
        "id": "16lm-ueZ7KKl",
        "colab_type": "code",
        "colab": {
          "base_uri": "https://localhost:8080/",
          "height": 537
        },
        "outputId": "a0fb3b6f-af98-4573-d6e0-1bc91f0ccfe9"
      },
      "source": [
        "locations=train['location'].value_counts()\n",
        "fig, ax = plt.subplots(figsize =(16, 9))\n",
        "\n",
        "keys = list(locations.keys()[:40]) \n",
        "values = list(locations[:40])\n",
        "# Horizontal Bar Plot \n",
        "ax.barh(keys,values, color='forestgreen') \n",
        "# Show Plot \n",
        "plt.show()"
      ],
      "execution_count": null,
      "outputs": [
        {
          "output_type": "display_data",
          "data": {
            "image/png": "[encoded data removed]",
            "text/plain": [
              "<Figure size 1152x648 with 1 Axes>"
            ]
          },
          "metadata": {
            "tags": [],
            "needs_background": "light"
          }
        }
      ]
    },
    {
      "cell_type": "markdown",
      "metadata": {
        "id": "GpHOqE7cwhOe",
        "colab_type": "text"
      },
      "source": [
        "###Data Cleaning:"
      ]
    },
    {
      "cell_type": "code",
      "metadata": {
        "id": "n6V-hO7Vu_IX",
        "colab_type": "code",
        "colab": {}
      },
      "source": [
        "def remove_punct(text):\n",
        "    text  = \"\".join([char for char in text if char not in string.punctuation])\n",
        "    text = re.sub('[0-9]+', '', text)\n",
        "    return text"
      ],
      "execution_count": null,
      "outputs": []
    },
    {
      "cell_type": "code",
      "metadata": {
        "id": "MBGZVhI2ywuN",
        "colab_type": "code",
        "colab": {
          "base_uri": "https://localhost:8080/",
          "height": 35
        },
        "outputId": "a8c6fdf1-e100-45c0-a4d2-4cef37435c5a"
      },
      "source": [
        "remove_punct(train.text[0])"
      ],
      "execution_count": null,
      "outputs": [
        {
          "output_type": "execute_result",
          "data": {
            "text/plain": [
              "'Our Deeds are the Reason of this earthquake May ALLAH Forgive us all'"
            ]
          },
          "metadata": {
            "tags": []
          },
          "execution_count": 21
        }
      ]
    },
    {
      "cell_type": "code",
      "metadata": {
        "id": "wW5GHPkyy0dq",
        "colab_type": "code",
        "colab": {
          "base_uri": "https://localhost:8080/",
          "height": 35
        },
        "outputId": "07bd21c0-5be7-4fce-8170-d4b060929a67"
      },
      "source": [
        "remove_punct(train.text[15])"
      ],
      "execution_count": null,
      "outputs": [
        {
          "output_type": "execute_result",
          "data": {
            "text/plain": [
              "'Whats up man'"
            ]
          },
          "metadata": {
            "tags": []
          },
          "execution_count": 22
        }
      ]
    },
    {
      "cell_type": "code",
      "metadata": {
        "id": "Zb0Hpe0zy2zw",
        "colab_type": "code",
        "colab": {
          "base_uri": "https://localhost:8080/",
          "height": 35
        },
        "outputId": "f5088587-6237-4a02-c8a1-7f870fe0579b"
      },
      "source": [
        "train.text[15]"
      ],
      "execution_count": null,
      "outputs": [
        {
          "output_type": "execute_result",
          "data": {
            "text/plain": [
              "\"What's up man?\""
            ]
          },
          "metadata": {
            "tags": []
          },
          "execution_count": 23
        }
      ]
    },
    {
      "cell_type": "code",
      "metadata": {
        "id": "-RV4QHeVzaZ3",
        "colab_type": "code",
        "colab": {}
      },
      "source": [
        "def remove_URL(text):\n",
        "    url = re.compile(r'https?://\\S+|www\\.\\S+')\n",
        "    return url.sub(r'',text)"
      ],
      "execution_count": null,
      "outputs": []
    },
    {
      "cell_type": "code",
      "metadata": {
        "id": "pv8UdehDNcLj",
        "colab_type": "code",
        "colab": {}
      },
      "source": [
        "#train.head(30)"
      ],
      "execution_count": null,
      "outputs": []
    },
    {
      "cell_type": "code",
      "metadata": {
        "id": "--dHrNS3zq0N",
        "colab_type": "code",
        "colab": {}
      },
      "source": [
        "def clean_stopwords(text):\n",
        "    text  = \"\".join([word for word in text if word not in stop])\n",
        "    return text"
      ],
      "execution_count": null,
      "outputs": []
    },
    {
      "cell_type": "code",
      "metadata": {
        "id": "tibjLeOIAILV",
        "colab_type": "code",
        "colab": {}
      },
      "source": [
        "def remove_numbers(text):\n",
        "    text = ''.join([i for i in text if not i.isdigit()])         \n",
        "    return text"
      ],
      "execution_count": null,
      "outputs": []
    },
    {
      "cell_type": "code",
      "metadata": {
        "id": "3jNp-tTfVHMy",
        "colab_type": "code",
        "colab": {}
      },
      "source": [
        "def clean_non_alphabetic(text):\n",
        "  text = ''.join([word for word in text if word.isalpha() or word == \" \"])   \n",
        "  return text"
      ],
      "execution_count": null,
      "outputs": []
    },
    {
      "cell_type": "code",
      "metadata": {
        "id": "iHHw5SDDngbO",
        "colab_type": "code",
        "colab": {}
      },
      "source": [
        "def remove_stopwords(text):\n",
        "  tokens = word_tokenize(str(text))\n",
        "\n",
        "  text=\"\"\n",
        "  for t in tokens:\n",
        "    if t not in stop:\n",
        "      text = text + t + \" \"   \n",
        "  return text"
      ],
      "execution_count": null,
      "outputs": []
    },
    {
      "cell_type": "code",
      "metadata": {
        "id": "F6AZJV23FetC",
        "colab_type": "code",
        "colab": {}
      },
      "source": [
        "def clean_data(x):\n",
        "  x= x.lower()\n",
        "  x = remove_numbers(x)\n",
        "  x = remove_URL(x)\n",
        "  x = remove_punct(x)\n",
        "  x = re.sub(\"§´\", \"\",x)\n",
        "  x = re.sub(\"'\", \" \", x)\n",
        "  x = re.sub(r\"&gt;\", \"\", x)\n",
        "  x = re.sub(r\"&lt;\", \"\", x)\n",
        "  x = re.sub(r\"&amp;\", \"\", x)\n",
        "  x = re.sub(r\"\\n\", \" \", x)\n",
        "  x = re.sub(r\"\\x89ûò\", \"\", x)\n",
        "  x = re.sub(r\"\\x89ûò\", \"\", x)\n",
        "  x = re.sub(r\"\\x89ûª\", \"\", x)\n",
        "  x = re.sub(r\"\\x89ûï\", \"\", x)\n",
        "  x = re.sub(r\"\\x89ûò\", \"\", x)\n",
        "  x = re.sub(r\"\\x89ûª\", \"\", x)\n",
        "  x = re.sub(r\"\\x89ûò\", \"\", x)\n",
        "  x = re.sub(r\"\\x89ûª\", \"\", x)\n",
        "  x = re.sub(r\"\\x89û\", \"\", x)\n",
        "  x = re.sub(r\"\\x9d\", \"\", x)\n",
        "  x = re.sub('\\w*\\d\\w*', '', x)\n",
        "  x = re.sub('ì©', 'é', x)\n",
        "  x = re.sub(r\"åê\", \"\", x)\n",
        "  x = re.sub(\"  \", \"\",x)\n",
        "  x = clean_non_alphabetic(x)\n",
        "  x = remove_stopwords(x)\n",
        "  return x"
      ],
      "execution_count": null,
      "outputs": []
    },
    {
      "cell_type": "code",
      "metadata": {
        "id": "EZ0qrUtFzvPv",
        "colab_type": "code",
        "colab": {
          "base_uri": "https://localhost:8080/",
          "height": 199
        },
        "outputId": "6809142e-ecb4-41d3-c0ad-2d43c5cd1a1e"
      },
      "source": [
        "train['text']=train['text'].apply(lambda x: clean_data(x))\n",
        "train['text'].values[:10]"
      ],
      "execution_count": null,
      "outputs": [
        {
          "output_type": "execute_result",
          "data": {
            "text/plain": [
              "array(['deeds reason earthquake may allah forgive us ',\n",
              "       'forest fire near la ronge sask canada ',\n",
              "       'residents asked shelter place notified officers evacuation shelter place orders expected ',\n",
              "       'people receive wildfires evacuation orders california ',\n",
              "       'got sent photo ruby alaska smoke wildfires pours school ',\n",
              "       'rockyfire updatecalifornia hwyclosed directions due lake county firecafire wildfires ',\n",
              "       'flood disaster heavy rain causes flash flooding streets manitou colorado springs areas ',\n",
              "       'im top hill see fire woods ',\n",
              "       'theres emergency evacuation happening building across street ',\n",
              "       'im afraid tornado coming area '], dtype=object)"
            ]
          },
          "metadata": {
            "tags": []
          },
          "execution_count": 31
        }
      ]
    },
    {
      "cell_type": "code",
      "metadata": {
        "id": "tgKKoZ2zAM_4",
        "colab_type": "code",
        "colab": {
          "base_uri": "https://localhost:8080/",
          "height": 144
        },
        "outputId": "4f52cde6-6147-464f-f2cb-83454018c666"
      },
      "source": [
        "test['text']=test['text'].apply(lambda x: clean_data(x))\n",
        "test['text'].values[:10]"
      ],
      "execution_count": null,
      "outputs": [
        {
          "output_type": "execute_result",
          "data": {
            "text/plain": [
              "array(['happened terrible car crash ',\n",
              "       'heard earthquake different cities stay safe everyone ',\n",
              "       'forest fire spot pond geese fleeing across street save ',\n",
              "       'apocalypse lighting spokane wildfires ',\n",
              "       'typhoon soudelor killsin china taiwan ', 'shakingits earthquake ',\n",
              "       'theyd probably still show life arsenal yesterday eh eh ', 'hey ',\n",
              "       'nice hat ', 'fuck '], dtype=object)"
            ]
          },
          "metadata": {
            "tags": []
          },
          "execution_count": 32
        }
      ]
    },
    {
      "cell_type": "markdown",
      "metadata": {
        "id": "Ku2VkqDxoBDB",
        "colab_type": "text"
      },
      "source": [
        "Die Tweets sind jetzt soweit bereinigt, dass sie keine Zeichen, Zahlen oder Zwischenwörter mehr enthalten, die mit dem eigentlichen Thema des Tweets nichts zu tun haben.\n",
        "\n",
        "Jetzt geht es daran, ein Modell zu bauen, dass anhand dieser Tweets lernt, ob es sich um ein Disaster Tweet handelt oder nicht."
      ]
    },
    {
      "cell_type": "markdown",
      "metadata": {
        "id": "CMwnfh92oe6O",
        "colab_type": "text"
      },
      "source": [
        "###Model Building:"
      ]
    },
    {
      "cell_type": "markdown",
      "metadata": {
        "id": "xwwMZoYeJ27y",
        "colab_type": "text"
      },
      "source": [
        "Zunächst wird versucht mit Hilfe eines naive Bayes Klassifikators eine Lösung zu erzielen."
      ]
    },
    {
      "cell_type": "code",
      "metadata": {
        "id": "MNeJAkVYBwV1",
        "colab_type": "code",
        "colab": {}
      },
      "source": [
        "#from https://www.kaggle.com/mohitsital/0-80777-simplest-model-naive-bayes\n",
        "from sklearn.feature_extraction.text import TfidfVectorizer\n",
        "\n",
        "#tf-idf\n",
        "tf_idf_vect = TfidfVectorizer(ngram_range=(1,3)) # one,two and three gram vectorization\n",
        "tf_idf_mat = tf_idf_vect.fit_transform(train['text'].values) # fit_transform vectorizer to train['text']\n",
        "tf_idf_mat_test = tf_idf_vect.transform(test['text'].values) # fit_transform vectorizer to test['text']"
      ],
      "execution_count": null,
      "outputs": []
    },
    {
      "cell_type": "code",
      "metadata": {
        "id": "bApXhXp1BzRH",
        "colab_type": "code",
        "colab": {
          "base_uri": "https://localhost:8080/",
          "height": 308
        },
        "outputId": "b00b3b36-95f7-469c-ebb2-4cd019c325f3"
      },
      "source": [
        " from sklearn.naive_bayes import MultinomialNB\n",
        " from sklearn.model_selection import train_test_split\n",
        " from sklearn.metrics import classification_report\n",
        " # applyig naive bayes , doing cross validation and accuracy matrix\n",
        "target = train['target']\n",
        "\n",
        "x, x_test, y, y_test = train_test_split(tf_idf_mat,target,test_size=0.2,train_size=0.8, random_state = 0)\n",
        "\n",
        "naive_bayes_clf = MultinomialNB(alpha=1).fit(x, y)\n",
        "predicted = naive_bayes_clf.predict(x_test)\n",
        " \n",
        "# classification table\n",
        "def printreport(exp, pred):\n",
        "    print(pd.crosstab(exp, pred, rownames=['Actual'], colnames=['Predicted']))\n",
        "    print('\\n \\n')\n",
        "    print(classification_report(exp, pred))\n",
        "\n",
        "printreport(y_test, predicted)"
      ],
      "execution_count": null,
      "outputs": [
        {
          "output_type": "stream",
          "text": [
            "Predicted    0    1\n",
            "Actual             \n",
            "0          838   48\n",
            "1          279  358\n",
            "\n",
            " \n",
            "\n",
            "              precision    recall  f1-score   support\n",
            "\n",
            "           0       0.75      0.95      0.84       886\n",
            "           1       0.88      0.56      0.69       637\n",
            "\n",
            "    accuracy                           0.79      1523\n",
            "   macro avg       0.82      0.75      0.76      1523\n",
            "weighted avg       0.81      0.79      0.77      1523\n",
            "\n"
          ],
          "name": "stdout"
        }
      ]
    },
    {
      "cell_type": "code",
      "metadata": {
        "id": "-3A0nv92PSFU",
        "colab_type": "code",
        "colab": {}
      },
      "source": [
        "nbPredictions = naive_bayes_clf.predict(tf_idf_mat_test)"
      ],
      "execution_count": null,
      "outputs": []
    },
    {
      "cell_type": "code",
      "metadata": {
        "id": "02qAzSfvP5c4",
        "colab_type": "code",
        "colab": {}
      },
      "source": [
        "submission = pd.read_csv('/content/DataScienceProjekt/sample_submission.csv')\n",
        "#submission['target']= nbPredictions\n",
        "#submission.to_csv('submission.csv',index=False)"
      ],
      "execution_count": null,
      "outputs": []
    },
    {
      "cell_type": "markdown",
      "metadata": {
        "id": "aQZw-bjLR70g",
        "colab_type": "text"
      },
      "source": [
        "Kaggle Score der ersten Submission mit einem Naive Bayes: 0.78732\n",
        "\n",
        "Platz auf dem Leaderboard zum Zeitpunkt der Submission: 1056"
      ]
    },
    {
      "cell_type": "markdown",
      "metadata": {
        "id": "k0Delx6xV3X1",
        "colab_type": "text"
      },
      "source": [
        "Das geht besser!\n",
        "\n",
        "Deshalb wird nun versucht, mit einem Bert Model das Problem zu lösen."
      ]
    },
    {
      "cell_type": "code",
      "metadata": {
        "id": "V596lZAJIUeN",
        "colab_type": "code",
        "colab": {
          "base_uri": "https://localhost:8080/",
          "height": 53
        },
        "outputId": "755aff83-5e2a-4d14-e458-75eaf3eed6ba"
      },
      "source": [
        "%%time\n",
        "\n",
        "max_seq_length = 200\n",
        "input_word_ids = tf.keras.layers.Input(shape=(max_seq_length,), dtype=tf.int32,\n",
        "                                       name=\"input_word_ids\")\n",
        "input_mask = tf.keras.layers.Input(shape=(max_seq_length,), dtype=tf.int32,\n",
        "                                   name=\"input_mask\")\n",
        "segment_ids = tf.keras.layers.Input(shape=(max_seq_length,), dtype=tf.int32,\n",
        "                                    name=\"segment_ids\")\n",
        "bert_layer = hub.KerasLayer(\"https://tfhub.dev/tensorflow/bert_en_uncased_L-12_H-768_A-12/1\",\n",
        "                            trainable=True)  \n",
        "pooled_output, sequence_output = bert_layer([input_word_ids, input_mask, segment_ids])\n",
        "\n",
        "\n",
        "clf_output = sequence_output[:, 0, :]\n",
        "dropout = tf.keras.layers.Dropout(0.3)(clf_output)\n",
        "\n",
        "out = Dense(1, activation='sigmoid')(dropout)"
      ],
      "execution_count": null,
      "outputs": [
        {
          "output_type": "stream",
          "text": [
            "CPU times: user 9.55 s, sys: 1.15 s, total: 10.7 s\n",
            "Wall time: 10.6 s\n"
          ],
          "name": "stdout"
        }
      ]
    },
    {
      "cell_type": "code",
      "metadata": {
        "id": "XC7JR7nZKN7_",
        "colab_type": "code",
        "colab": {}
      },
      "source": [
        "FullTokenizer = bert.bert_tokenization.FullTokenizer\n",
        "\n",
        "vocab_file = bert_layer.resolved_object.vocab_file.asset_path.numpy()\n",
        "do_lower_case = bert_layer.resolved_object.do_lower_case.numpy()\n",
        "tokenizer = FullTokenizer(vocab_file, do_lower_case)"
      ],
      "execution_count": null,
      "outputs": []
    },
    {
      "cell_type": "code",
      "metadata": {
        "id": "GEaLV7ggVuet",
        "colab_type": "code",
        "colab": {}
      },
      "source": [
        "#from https://www.kaggle.com/xhlulu/disaster-nlp-keras-bert-using-tfhub\n",
        "def bert_encode(texts, tokenizer, max_len=512):\n",
        "    all_tokens = []\n",
        "    all_masks = []\n",
        "    all_segments = []\n",
        "    \n",
        "    for text in texts:\n",
        "        text = tokenizer.tokenize(text)\n",
        "            \n",
        "        text = text[:max_len-2]\n",
        "        input_sequence = [\"[CLS]\"] + text + [\"[SEP]\"]\n",
        "        pad_len = max_len - len(input_sequence)\n",
        "        \n",
        "        tokens = tokenizer.convert_tokens_to_ids(input_sequence)\n",
        "        tokens += [0] * pad_len\n",
        "        pad_masks = [1] * len(input_sequence) + [0] * pad_len\n",
        "        segment_ids = [0] * max_len\n",
        "        \n",
        "        all_tokens.append(tokens)\n",
        "        all_masks.append(pad_masks)\n",
        "        all_segments.append(segment_ids)\n",
        "    \n",
        "    return np.array(all_tokens), np.array(all_masks), np.array(all_segments)"
      ],
      "execution_count": null,
      "outputs": []
    },
    {
      "cell_type": "code",
      "metadata": {
        "id": "fEi2ryECaW32",
        "colab_type": "code",
        "colab": {}
      },
      "source": [
        "train_input = bert_encode(train.text.values, tokenizer, max_len=max_seq_length)\n",
        "test_input = bert_encode(test.text.values, tokenizer, max_len=max_seq_length)\n",
        "train_labels = train.target.values"
      ],
      "execution_count": null,
      "outputs": []
    },
    {
      "cell_type": "code",
      "metadata": {
        "id": "ZlOc2Viqbwrq",
        "colab_type": "code",
        "colab": {
          "base_uri": "https://localhost:8080/",
          "height": 454
        },
        "outputId": "a20c787d-6e30-48f3-c770-645de64c930c"
      },
      "source": [
        "model = Model(inputs=[input_word_ids, input_mask, segment_ids], outputs=out)\n",
        "model.summary()"
      ],
      "execution_count": null,
      "outputs": [
        {
          "output_type": "stream",
          "text": [
            "Model: \"functional_1\"\n",
            "__________________________________________________________________________________________________\n",
            "Layer (type)                    Output Shape         Param #     Connected to                     \n",
            "==================================================================================================\n",
            "input_word_ids (InputLayer)     [(None, 200)]        0                                            \n",
            "__________________________________________________________________________________________________\n",
            "input_mask (InputLayer)         [(None, 200)]        0                                            \n",
            "__________________________________________________________________________________________________\n",
            "segment_ids (InputLayer)        [(None, 200)]        0                                            \n",
            "__________________________________________________________________________________________________\n",
            "keras_layer (KerasLayer)        [(None, 768), (None, 109482241   input_word_ids[0][0]             \n",
            "                                                                 input_mask[0][0]                 \n",
            "                                                                 segment_ids[0][0]                \n",
            "__________________________________________________________________________________________________\n",
            "tf_op_layer_strided_slice (Tens [(None, 768)]        0           keras_layer[0][1]                \n",
            "__________________________________________________________________________________________________\n",
            "dropout (Dropout)               (None, 768)          0           tf_op_layer_strided_slice[0][0]  \n",
            "__________________________________________________________________________________________________\n",
            "dense (Dense)                   (None, 1)            769         dropout[0][0]                    \n",
            "==================================================================================================\n",
            "Total params: 109,483,010\n",
            "Trainable params: 109,483,009\n",
            "Non-trainable params: 1\n",
            "__________________________________________________________________________________________________\n"
          ],
          "name": "stdout"
        }
      ]
    },
    {
      "cell_type": "code",
      "metadata": {
        "id": "7KOfjzMzb_UL",
        "colab_type": "code",
        "colab": {}
      },
      "source": [
        "checkpoint = tf.keras.callbacks.ModelCheckpoint('drive/My Drive/model.h5', monitor='val_loss', save_best_only=True)\n",
        "\n",
        "optimizer = tf.keras.optimizers.Adam(lr=0.00001)\n",
        "model.compile(optimizer=optimizer, loss='binary_crossentropy', metrics=['accuracy'])"
      ],
      "execution_count": null,
      "outputs": []
    },
    {
      "cell_type": "code",
      "metadata": {
        "id": "KDcf3MajhZSw",
        "colab_type": "code",
        "colab": {
          "base_uri": "https://localhost:8080/",
          "height": 199
        },
        "outputId": "c00e58d5-c6d1-4c1d-8fce-8f56bafcf521"
      },
      "source": [
        "train_history = model.fit(\n",
        "    train_input, train_labels,\n",
        "    validation_split=0.3,\n",
        "    epochs=5,\n",
        "    callbacks=[checkpoint],\n",
        "    batch_size=32\n",
        ")"
      ],
      "execution_count": null,
      "outputs": [
        {
          "output_type": "stream",
          "text": [
            "Epoch 1/5\n",
            "167/167 [==============================] - 143s 858ms/step - loss: 0.5115 - accuracy: 0.7568 - val_loss: 0.4446 - val_accuracy: 0.8122\n",
            "Epoch 2/5\n",
            "167/167 [==============================] - 134s 805ms/step - loss: 0.3250 - accuracy: 0.8647 - val_loss: 0.4772 - val_accuracy: 0.7806\n",
            "Epoch 3/5\n",
            "167/167 [==============================] - 134s 805ms/step - loss: 0.1920 - accuracy: 0.9261 - val_loss: 0.4883 - val_accuracy: 0.7960\n",
            "Epoch 4/5\n",
            "167/167 [==============================] - 134s 805ms/step - loss: 0.0944 - accuracy: 0.9664 - val_loss: 0.5624 - val_accuracy: 0.7942\n",
            "Epoch 5/5\n",
            "167/167 [==============================] - 135s 806ms/step - loss: 0.0616 - accuracy: 0.9779 - val_loss: 0.6539 - val_accuracy: 0.7982\n"
          ],
          "name": "stdout"
        }
      ]
    },
    {
      "cell_type": "code",
      "metadata": {
        "id": "sTflVj3bc3wY",
        "colab_type": "code",
        "colab": {
          "base_uri": "https://localhost:8080/",
          "height": 787
        },
        "outputId": "c1605975-9327-4722-eabc-5660e6177975"
      },
      "source": [
        "plt.figure(figsize=(30,15))\n",
        "\n",
        "#accuracy plot\n",
        "plt.subplot(1,2,1)\n",
        "plt.plot(train_history.history['accuracy'])\n",
        "plt.plot(train_history.history['val_accuracy'])\n",
        "plt.title('Accuracy')\n",
        "plt.ylabel('accuracy')\n",
        "plt.xlabel('epoch')\n",
        "plt.legend(['train', 'test'], loc='upper left')\n",
        "\n",
        "#loss plot\n",
        "plt.subplot(1,2,2)\n",
        "plt.plot(train_history.history['loss'])\n",
        "plt.plot(train_history.history['val_loss'])\n",
        "plt.title('Loss')\n",
        "plt.ylabel('loss')\n",
        "plt.xlabel('epoch')\n",
        "plt.legend(['train', 'test'], loc='upper left')\n",
        "\n",
        "plt.show()"
      ],
      "execution_count": null,
      "outputs": [
        {
          "output_type": "display_data",
          "data": {
            "image/png": "[encoded data removed]",
            "text/plain": [
              "<Figure size 2160x1080 with 2 Axes>"
            ]
          },
          "metadata": {
            "tags": [],
            "needs_background": "light"
          }
        }
      ]
    },
    {
      "cell_type": "markdown",
      "metadata": {
        "id": "C3KoYVh97gYc",
        "colab_type": "text"
      },
      "source": [
        "Die Grafiken zeigen, dass die test-Accuracy fällt und der test-loss steigt. Das bedeutet, dass das Model hauptsächlich Merkmale der training-samples lernt. Es zeigt also ein Overfitting-verhalten. Um dem Overfitting entgegenzuwirken, wurde ein Dropout eingeführt."
      ]
    },
    {
      "cell_type": "code",
      "metadata": {
        "id": "VCVDy_AJxEzV",
        "colab_type": "code",
        "colab": {
          "base_uri": "https://localhost:8080/",
          "height": 35
        },
        "outputId": "85b9f33a-cf91-4cff-d8da-9a4de273759c"
      },
      "source": [
        "model"
      ],
      "execution_count": null,
      "outputs": [
        {
          "output_type": "execute_result",
          "data": {
            "text/plain": [
              "<tensorflow.python.keras.engine.functional.Functional at 0x7f0e632d6b38>"
            ]
          },
          "metadata": {
            "tags": []
          },
          "execution_count": 45
        }
      ]
    },
    {
      "cell_type": "code",
      "metadata": {
        "id": "kL8Xgzr2xI1B",
        "colab_type": "code",
        "colab": {
          "base_uri": "https://localhost:8080/",
          "height": 399
        },
        "outputId": "85b2fc20-c0a1-4a05-eec9-a90ac9e7a957"
      },
      "source": [
        "test_input"
      ],
      "execution_count": null,
      "outputs": [
        {
          "output_type": "execute_result",
          "data": {
            "text/plain": [
              "(array([[  101,  3047,  6659, ...,     0,     0,     0],\n",
              "        [  101,  2657,  8372, ...,     0,     0,     0],\n",
              "        [  101,  3224,  2543, ...,     0,     0,     0],\n",
              "        ...,\n",
              "        [  101,  2665,  2240, ...,     0,     0,     0],\n",
              "        [  101, 12669,  3314, ...,     0,     0,     0],\n",
              "        [  101,  2103, 11253, ...,     0,     0,     0]]),\n",
              " array([[1, 1, 1, ..., 0, 0, 0],\n",
              "        [1, 1, 1, ..., 0, 0, 0],\n",
              "        [1, 1, 1, ..., 0, 0, 0],\n",
              "        ...,\n",
              "        [1, 1, 1, ..., 0, 0, 0],\n",
              "        [1, 1, 1, ..., 0, 0, 0],\n",
              "        [1, 1, 1, ..., 0, 0, 0]]),\n",
              " array([[0, 0, 0, ..., 0, 0, 0],\n",
              "        [0, 0, 0, ..., 0, 0, 0],\n",
              "        [0, 0, 0, ..., 0, 0, 0],\n",
              "        ...,\n",
              "        [0, 0, 0, ..., 0, 0, 0],\n",
              "        [0, 0, 0, ..., 0, 0, 0],\n",
              "        [0, 0, 0, ..., 0, 0, 0]]))"
            ]
          },
          "metadata": {
            "tags": []
          },
          "execution_count": 46
        }
      ]
    },
    {
      "cell_type": "code",
      "metadata": {
        "id": "9Sqt2qR0bWzq",
        "colab_type": "code",
        "colab": {}
      },
      "source": [
        "model.trainable=False\n",
        "model.compile(loss='binary_crossentropy', optimizer=optimizer, metrics=['accuracy'])\n",
        "model.load_weights('drive/My Drive/model.h5')\n",
        "bertPrediction = model.predict(test_input)"
      ],
      "execution_count": null,
      "outputs": []
    },
    {
      "cell_type": "code",
      "metadata": {
        "id": "btweWGTRbd6Q",
        "colab_type": "code",
        "colab": {}
      },
      "source": [
        "submission['target'] = bertPrediction.round().astype(int)\n",
        "submission.to_csv('submission.csv', index=False)"
      ],
      "execution_count": null,
      "outputs": []
    },
    {
      "cell_type": "markdown",
      "metadata": {
        "id": "Gltxp2ef8Z75",
        "colab_type": "text"
      },
      "source": [
        "Mit dem Bert Model war es bereits möglich einen Kaggel Score von 0.81336 zu erreichen. Dies liegt schon im Mittelfeld. Auf dem Leaderboard gibt das Platz 404 zum Zeitpunkt der Submission.\n",
        "\n",
        "Durch das tunen von Parametern wird nun versucht, ein noch besserer Score zu erzielen."
      ]
    },
    {
      "cell_type": "markdown",
      "metadata": {
        "id": "t4NBm9R_6-TN",
        "colab_type": "text"
      },
      "source": [
        "Wenn man das Model mit einer max_seq_length von 200, einem Dropout von 0,2 einer learning rate von 0,00001 und einer batch-size von 64 für 7 Epochen trainiert, erreicht man einen Kaggle Score von 0,81857 und landet damit auf platz 376 "
      ]
    },
    {
      "cell_type": "markdown",
      "metadata": {
        "id": "8gabsr4drrbD",
        "colab_type": "text"
      },
      "source": [
        "Weitere Versuche mit verschiedenen Parametern:"
      ]
    },
    {
      "cell_type": "markdown",
      "metadata": {
        "id": "nLNRfWMOhg2T",
        "colab_type": "text"
      },
      "source": [
        "|    | max seq length | dropout | epochs | test-train-split | learing rate | batch size | Kaggle Score |\n",
        "|----|----------------|---------|--------|------------------|--------------|------------|--------------|\n",
        "| 1. | 160            | 0,2     | 5      | 0,2              | 0,00001      | 64         | 0,81795      |\n",
        "| 2. | 160            | 0,3     | 5      | 0,25             | 0,000001     | 64         | 0,8011       |\n",
        "| 3. | 160            | 0,3     | 5      | 0,25             | 0,00001      | 64         | 0,81091      |\n",
        "| 4. | 160            | 0,3     | 5      | 0,2              | 0,00001      | 32         | 0,82255      |\n",
        "| 5. | 200            | 0,3     | 5      | 0,3              | 0,00001      | 32         | 0,79773      |"
      ]
    },
    {
      "cell_type": "code",
      "metadata": {
        "id": "CqcR0xgzh2y8",
        "colab_type": "code",
        "colab": {}
      },
      "source": [
        ""
      ],
      "execution_count": null,
      "outputs": []
    }
  ]
}