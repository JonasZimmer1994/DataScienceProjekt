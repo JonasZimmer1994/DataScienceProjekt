{
  "nbformat": 4,
  "nbformat_minor": 0,
  "metadata": {
    "colab": {
      "name": "Data_Science_Projekt.ipynb",
      "provenance": [],
      "collapsed_sections": [],
      "authorship_tag": "ABX9TyPrmJCrixW6AN6sf6ybZBWf",
      "include_colab_link": true
    },
    "kernelspec": {
      "name": "python3",
      "display_name": "Python 3"
    }
  },
  "cells": [
    {
      "cell_type": "markdown",
      "metadata": {
        "id": "view-in-github",
        "colab_type": "text"
      },
      "source": [
        "<a href=\"https://colab.research.google.com/github/JonasZimmer1994/DataScienceProjekt/blob/master/Data_Science_Projekt.ipynb\" target=\"_parent\"><img src=\"https://colab.research.google.com/assets/colab-badge.svg\" alt=\"Open In Colab\"/></a>"
      ]
    },
    {
      "cell_type": "markdown",
      "metadata": {
        "id": "ct9F9oKX58JY",
        "colab_type": "text"
      },
      "source": [
        "Notebooks die halfen:\n",
        "\n",
        "https://www.kaggle.com/utcarshagrawal/nlp-model-including-eda-and-data-cleaning\n",
        "\n",
        "https://www.kaggle.com/shahules/basic-eda-cleaning-and-glove\n",
        "\n",
        "https://www.kaggle.com/vanshjatana/a-simple-guide-to-text-cleaning\n",
        "\n"
      ]
    },
    {
      "cell_type": "markdown",
      "metadata": {
        "id": "vYWXNMV-xzdV",
        "colab_type": "text"
      },
      "source": [
        "###Data Import"
      ]
    },
    {
      "cell_type": "code",
      "metadata": {
        "id": "7ButTKnKzutd",
        "colab_type": "code",
        "outputId": "b34c588b-a6b5-4edc-b33d-c653ee14769b",
        "colab": {
          "base_uri": "https://localhost:8080/",
          "height": 35
        }
      },
      "source": [
        "!git clone https://github.com/JonasZimmer1994/DataScienceProjekt.git"
      ],
      "execution_count": 1,
      "outputs": [
        {
          "output_type": "stream",
          "text": [
            "fatal: destination path 'DataScienceProjekt' already exists and is not an empty directory.\n"
          ],
          "name": "stdout"
        }
      ]
    },
    {
      "cell_type": "code",
      "metadata": {
        "id": "MpkrRDEEtwDx",
        "colab_type": "code",
        "outputId": "1daea850-a913-4e5b-92c0-d263ae8f28ce",
        "colab": {
          "base_uri": "https://localhost:8080/",
          "height": 909
        }
      },
      "source": [
        "import nltk\n",
        "nltk.download(\"popular\")"
      ],
      "execution_count": 2,
      "outputs": [
        {
          "output_type": "stream",
          "text": [
            "[nltk_data] Downloading collection 'popular'\n",
            "[nltk_data]    | \n",
            "[nltk_data]    | Downloading package cmudict to /root/nltk_data...\n",
            "[nltk_data]    |   Package cmudict is already up-to-date!\n",
            "[nltk_data]    | Downloading package gazetteers to /root/nltk_data...\n",
            "[nltk_data]    |   Package gazetteers is already up-to-date!\n",
            "[nltk_data]    | Downloading package genesis to /root/nltk_data...\n",
            "[nltk_data]    |   Package genesis is already up-to-date!\n",
            "[nltk_data]    | Downloading package gutenberg to /root/nltk_data...\n",
            "[nltk_data]    |   Package gutenberg is already up-to-date!\n",
            "[nltk_data]    | Downloading package inaugural to /root/nltk_data...\n",
            "[nltk_data]    |   Package inaugural is already up-to-date!\n",
            "[nltk_data]    | Downloading package movie_reviews to\n",
            "[nltk_data]    |     /root/nltk_data...\n",
            "[nltk_data]    |   Package movie_reviews is already up-to-date!\n",
            "[nltk_data]    | Downloading package names to /root/nltk_data...\n",
            "[nltk_data]    |   Package names is already up-to-date!\n",
            "[nltk_data]    | Downloading package shakespeare to /root/nltk_data...\n",
            "[nltk_data]    |   Package shakespeare is already up-to-date!\n",
            "[nltk_data]    | Downloading package stopwords to /root/nltk_data...\n",
            "[nltk_data]    |   Package stopwords is already up-to-date!\n",
            "[nltk_data]    | Downloading package treebank to /root/nltk_data...\n",
            "[nltk_data]    |   Package treebank is already up-to-date!\n",
            "[nltk_data]    | Downloading package twitter_samples to\n",
            "[nltk_data]    |     /root/nltk_data...\n",
            "[nltk_data]    |   Package twitter_samples is already up-to-date!\n",
            "[nltk_data]    | Downloading package omw to /root/nltk_data...\n",
            "[nltk_data]    |   Package omw is already up-to-date!\n",
            "[nltk_data]    | Downloading package wordnet to /root/nltk_data...\n",
            "[nltk_data]    |   Package wordnet is already up-to-date!\n",
            "[nltk_data]    | Downloading package wordnet_ic to /root/nltk_data...\n",
            "[nltk_data]    |   Package wordnet_ic is already up-to-date!\n",
            "[nltk_data]    | Downloading package words to /root/nltk_data...\n",
            "[nltk_data]    |   Package words is already up-to-date!\n",
            "[nltk_data]    | Downloading package maxent_ne_chunker to\n",
            "[nltk_data]    |     /root/nltk_data...\n",
            "[nltk_data]    |   Package maxent_ne_chunker is already up-to-date!\n",
            "[nltk_data]    | Downloading package punkt to /root/nltk_data...\n",
            "[nltk_data]    |   Package punkt is already up-to-date!\n",
            "[nltk_data]    | Downloading package snowball_data to\n",
            "[nltk_data]    |     /root/nltk_data...\n",
            "[nltk_data]    |   Package snowball_data is already up-to-date!\n",
            "[nltk_data]    | Downloading package averaged_perceptron_tagger to\n",
            "[nltk_data]    |     /root/nltk_data...\n",
            "[nltk_data]    |   Package averaged_perceptron_tagger is already up-\n",
            "[nltk_data]    |       to-date!\n",
            "[nltk_data]    | \n",
            "[nltk_data]  Done downloading collection popular\n"
          ],
          "name": "stdout"
        },
        {
          "output_type": "execute_result",
          "data": {
            "text/plain": [
              "True"
            ]
          },
          "metadata": {
            "tags": []
          },
          "execution_count": 2
        }
      ]
    },
    {
      "cell_type": "code",
      "metadata": {
        "id": "N9OImImpyJjq",
        "colab_type": "code",
        "colab": {
          "base_uri": "https://localhost:8080/",
          "height": 53
        },
        "outputId": "af950110-df83-4a34-b753-abe0121770b7"
      },
      "source": [
        "#imports\n",
        "import matplotlib.pyplot as plt\n",
        "import seaborn as sns\n",
        "import numpy as np\n",
        "import pandas as pd\n",
        "import string\n",
        "import re\n",
        "from collections import  Counter\n",
        "from nltk.corpus import stopwords\n",
        "from nltk.tokenize import word_tokenize\n",
        "stop= stopwords.words('english')"
      ],
      "execution_count": 3,
      "outputs": [
        {
          "output_type": "stream",
          "text": [
            "/usr/local/lib/python3.6/dist-packages/statsmodels/tools/_testing.py:19: FutureWarning: pandas.util.testing is deprecated. Use the functions in the public API at pandas.testing instead.\n",
            "  import pandas.util.testing as tm\n"
          ],
          "name": "stderr"
        }
      ]
    },
    {
      "cell_type": "markdown",
      "metadata": {
        "id": "X7DCF1aP0pyK",
        "colab_type": "text"
      },
      "source": [
        "Zunächst werden die Dateien in Form von DataFrames importiert."
      ]
    },
    {
      "cell_type": "code",
      "metadata": {
        "id": "-cWlsJcS0fQS",
        "colab_type": "code",
        "colab": {}
      },
      "source": [
        "train = pd.read_csv('/content/DataScienceProjekt/train.csv') \n",
        "test = pd.read_csv('/content/DataScienceProjekt/test.csv')"
      ],
      "execution_count": 0,
      "outputs": []
    },
    {
      "cell_type": "markdown",
      "metadata": {
        "id": "QN3PlrSZxngd",
        "colab_type": "text"
      },
      "source": [
        "###Data Visualization"
      ]
    },
    {
      "cell_type": "markdown",
      "metadata": {
        "id": "N6hJU-XD20aQ",
        "colab_type": "text"
      },
      "source": [
        "Zur Übersicht werden die Daten erst einmal ausgegeben."
      ]
    },
    {
      "cell_type": "code",
      "metadata": {
        "id": "e3Xztu-l16uH",
        "colab_type": "code",
        "outputId": "b6cf4b2f-0328-414c-daaf-278aa17f3dc0",
        "colab": {
          "base_uri": "https://localhost:8080/",
          "height": 206
        }
      },
      "source": [
        "train.head()"
      ],
      "execution_count": 5,
      "outputs": [
        {
          "output_type": "execute_result",
          "data": {
            "text/html": [
              "<div>\n",
              "<style scoped>\n",
              "    .dataframe tbody tr th:only-of-type {\n",
              "        vertical-align: middle;\n",
              "    }\n",
              "\n",
              "    .dataframe tbody tr th {\n",
              "        vertical-align: top;\n",
              "    }\n",
              "\n",
              "    .dataframe thead th {\n",
              "        text-align: right;\n",
              "    }\n",
              "</style>\n",
              "<table border=\"1\" class=\"dataframe\">\n",
              "  <thead>\n",
              "    <tr style=\"text-align: right;\">\n",
              "      <th></th>\n",
              "      <th>id</th>\n",
              "      <th>keyword</th>\n",
              "      <th>location</th>\n",
              "      <th>text</th>\n",
              "      <th>target</th>\n",
              "    </tr>\n",
              "  </thead>\n",
              "  <tbody>\n",
              "    <tr>\n",
              "      <th>0</th>\n",
              "      <td>1</td>\n",
              "      <td>NaN</td>\n",
              "      <td>NaN</td>\n",
              "      <td>Our Deeds are the Reason of this #earthquake M...</td>\n",
              "      <td>1</td>\n",
              "    </tr>\n",
              "    <tr>\n",
              "      <th>1</th>\n",
              "      <td>4</td>\n",
              "      <td>NaN</td>\n",
              "      <td>NaN</td>\n",
              "      <td>Forest fire near La Ronge Sask. Canada</td>\n",
              "      <td>1</td>\n",
              "    </tr>\n",
              "    <tr>\n",
              "      <th>2</th>\n",
              "      <td>5</td>\n",
              "      <td>NaN</td>\n",
              "      <td>NaN</td>\n",
              "      <td>All residents asked to 'shelter in place' are ...</td>\n",
              "      <td>1</td>\n",
              "    </tr>\n",
              "    <tr>\n",
              "      <th>3</th>\n",
              "      <td>6</td>\n",
              "      <td>NaN</td>\n",
              "      <td>NaN</td>\n",
              "      <td>13,000 people receive #wildfires evacuation or...</td>\n",
              "      <td>1</td>\n",
              "    </tr>\n",
              "    <tr>\n",
              "      <th>4</th>\n",
              "      <td>7</td>\n",
              "      <td>NaN</td>\n",
              "      <td>NaN</td>\n",
              "      <td>Just got sent this photo from Ruby #Alaska as ...</td>\n",
              "      <td>1</td>\n",
              "    </tr>\n",
              "  </tbody>\n",
              "</table>\n",
              "</div>"
            ],
            "text/plain": [
              "   id keyword  ...                                               text target\n",
              "0   1     NaN  ...  Our Deeds are the Reason of this #earthquake M...      1\n",
              "1   4     NaN  ...             Forest fire near La Ronge Sask. Canada      1\n",
              "2   5     NaN  ...  All residents asked to 'shelter in place' are ...      1\n",
              "3   6     NaN  ...  13,000 people receive #wildfires evacuation or...      1\n",
              "4   7     NaN  ...  Just got sent this photo from Ruby #Alaska as ...      1\n",
              "\n",
              "[5 rows x 5 columns]"
            ]
          },
          "metadata": {
            "tags": []
          },
          "execution_count": 5
        }
      ]
    },
    {
      "cell_type": "markdown",
      "metadata": {
        "id": "mNmviAyI6M1I",
        "colab_type": "text"
      },
      "source": [
        "die Form der Daten sieht wie folgt aus"
      ]
    },
    {
      "cell_type": "code",
      "metadata": {
        "id": "VNgT5P4u2yVz",
        "colab_type": "code",
        "outputId": "03cfab26-9cad-43dc-c769-b087df55a1f3",
        "colab": {
          "base_uri": "https://localhost:8080/",
          "height": 53
        }
      },
      "source": [
        "print('There are {} rows and {} columns in train'.format(train.shape[0],train.shape[1]))\n",
        "print('There are {} rows and {} columns in train'.format(test.shape[0],test.shape[1]))"
      ],
      "execution_count": 6,
      "outputs": [
        {
          "output_type": "stream",
          "text": [
            "There are 7613 rows and 5 columns in train\n",
            "There are 3263 rows and 4 columns in train\n"
          ],
          "name": "stdout"
        }
      ]
    },
    {
      "cell_type": "markdown",
      "metadata": {
        "id": "zcPsiKAgBRl6",
        "colab_type": "text"
      },
      "source": [
        "um die Daten genauer anzusehen, werden zunächst Beispiel Tweets angezeigt. Dazu wird angeschaut bei welchen Tweets es sich um Disaster Tweets handelt."
      ]
    },
    {
      "cell_type": "code",
      "metadata": {
        "id": "9HbnfFTqBPhY",
        "colab_type": "code",
        "outputId": "d84f762d-6f48-4a3b-e8c3-331b4dafb4e1",
        "colab": {
          "base_uri": "https://localhost:8080/",
          "height": 563
        }
      },
      "source": [
        "for i in range(30):\n",
        "    print(train.text[i], \"        Desaster Tweet:\", train.target[i])"
      ],
      "execution_count": 7,
      "outputs": [
        {
          "output_type": "stream",
          "text": [
            "Our Deeds are the Reason of this #earthquake May ALLAH Forgive us all         Desaster Tweet: 1\n",
            "Forest fire near La Ronge Sask. Canada         Desaster Tweet: 1\n",
            "All residents asked to 'shelter in place' are being notified by officers. No other evacuation or shelter in place orders are expected         Desaster Tweet: 1\n",
            "13,000 people receive #wildfires evacuation orders in California          Desaster Tweet: 1\n",
            "Just got sent this photo from Ruby #Alaska as smoke from #wildfires pours into a school          Desaster Tweet: 1\n",
            "#RockyFire Update => California Hwy. 20 closed in both directions due to Lake County fire - #CAfire #wildfires         Desaster Tweet: 1\n",
            "#flood #disaster Heavy rain causes flash flooding of streets in Manitou, Colorado Springs areas         Desaster Tweet: 1\n",
            "I'm on top of the hill and I can see a fire in the woods...         Desaster Tweet: 1\n",
            "There's an emergency evacuation happening now in the building across the street         Desaster Tweet: 1\n",
            "I'm afraid that the tornado is coming to our area...         Desaster Tweet: 1\n",
            "Three people died from the heat wave so far         Desaster Tweet: 1\n",
            "Haha South Tampa is getting flooded hah- WAIT A SECOND I LIVE IN SOUTH TAMPA WHAT AM I GONNA DO WHAT AM I GONNA DO FVCK #flooding         Desaster Tweet: 1\n",
            "#raining #flooding #Florida #TampaBay #Tampa 18 or 19 days. I've lost count          Desaster Tweet: 1\n",
            "#Flood in Bago Myanmar #We arrived Bago         Desaster Tweet: 1\n",
            "Damage to school bus on 80 in multi car crash #BREAKING          Desaster Tweet: 1\n",
            "What's up man?         Desaster Tweet: 0\n",
            "I love fruits         Desaster Tweet: 0\n",
            "Summer is lovely         Desaster Tweet: 0\n",
            "My car is so fast         Desaster Tweet: 0\n",
            "What a goooooooaaaaaal!!!!!!         Desaster Tweet: 0\n",
            "this is ridiculous....         Desaster Tweet: 0\n",
            "London is cool ;)         Desaster Tweet: 0\n",
            "Love skiing         Desaster Tweet: 0\n",
            "What a wonderful day!         Desaster Tweet: 0\n",
            "LOOOOOOL         Desaster Tweet: 0\n",
            "No way...I can't eat that shit         Desaster Tweet: 0\n",
            "Was in NYC last week!         Desaster Tweet: 0\n",
            "Love my girlfriend         Desaster Tweet: 0\n",
            "Cooool :)         Desaster Tweet: 0\n",
            "Do you like pasta?         Desaster Tweet: 0\n"
          ],
          "name": "stdout"
        }
      ]
    },
    {
      "cell_type": "markdown",
      "metadata": {
        "id": "oc9v9e026K-8",
        "colab_type": "text"
      },
      "source": [
        "Es wird die Klassenverteilung geplottet"
      ]
    },
    {
      "cell_type": "code",
      "metadata": {
        "id": "tWl7OmiC2zqZ",
        "colab_type": "code",
        "outputId": "9f53b977-e1da-4782-9a08-6e13b77f3b5e",
        "colab": {
          "base_uri": "https://localhost:8080/",
          "height": 283
        }
      },
      "source": [
        "x=train.target.value_counts()\n",
        "sns.barplot(x.index,x)\n",
        "plt.gca().set_ylabel('samples')"
      ],
      "execution_count": 8,
      "outputs": [
        {
          "output_type": "execute_result",
          "data": {
            "text/plain": [
              "Text(0, 0.5, 'samples')"
            ]
          },
          "metadata": {
            "tags": []
          },
          "execution_count": 8
        },
        {
          "output_type": "display_data",
          "data": {
            "image/png": "[encoded data removed]",
            "text/plain": [
              "<Figure size 432x288 with 1 Axes>"
            ]
          },
          "metadata": {
            "tags": [],
            "needs_background": "light"
          }
        }
      ]
    },
    {
      "cell_type": "markdown",
      "metadata": {
        "id": "nNKPMrvyNhLM",
        "colab_type": "text"
      },
      "source": [
        "Um sich ein genaueres Bild von Disaster vs Non-Disaster Tweets zu machen, werden einige Eigenschaften von beiden Arten von Tweets gegenübergestellt."
      ]
    },
    {
      "cell_type": "code",
      "metadata": {
        "id": "hmZEeJBs5EMH",
        "colab_type": "code",
        "outputId": "c39fac9a-2bf4-4ddb-e9c3-28ef2394efa5",
        "colab": {
          "base_uri": "https://localhost:8080/",
          "height": 356
        }
      },
      "source": [
        "fig,(ax1,ax2)=plt.subplots(1,2,figsize=(10,5))\n",
        "tweet_len=train[train['target']==1]['text'].str.split().map(lambda x: len(x))\n",
        "ax1.hist(tweet_len,color='firebrick')\n",
        "ax1.set_title('disaster tweets')\n",
        "tweet_len=train[train['target']==0]['text'].str.split().map(lambda x: len(x))\n",
        "ax2.hist(tweet_len,color='royalblue')\n",
        "ax2.set_title('Not disaster tweets')\n",
        "fig.suptitle('Words in a tweet')\n",
        "plt.show()"
      ],
      "execution_count": 9,
      "outputs": [
        {
          "output_type": "display_data",
          "data": {
            "image/png": "[encoded data removed]",
            "text/plain": [
              "<Figure size 720x360 with 2 Axes>"
            ]
          },
          "metadata": {
            "tags": [],
            "needs_background": "light"
          }
        }
      ]
    },
    {
      "cell_type": "markdown",
      "metadata": {
        "id": "22BxYWo3NxG7",
        "colab_type": "text"
      },
      "source": [
        "anhand der Wort Menge kann man erkennen, dass disaster Tweets tendenziell weniger Wörter beinhalten."
      ]
    },
    {
      "cell_type": "code",
      "metadata": {
        "id": "VprsQVhrMf-K",
        "colab_type": "code",
        "outputId": "150f4da6-47e4-4d19-efdd-091a4e3ec953",
        "colab": {
          "base_uri": "https://localhost:8080/",
          "height": 388
        }
      },
      "source": [
        "fig,(ax1,ax2)=plt.subplots(1,2,figsize=(10,5))\n",
        "word=train[train['target']==1]['text'].str.split().apply(lambda x : [len(i) for i in x])\n",
        "sns.distplot(word.map(lambda x: np.mean(x)),ax=ax1,color='firebrick')\n",
        "ax1.set_title('disaster')\n",
        "word=train[train['target']==0]['text'].str.split().apply(lambda x : [len(i) for i in x])\n",
        "sns.distplot(word.map(lambda x: np.mean(x)),ax=ax2,color='royalblue')\n",
        "ax2.set_title('Not disaster')\n",
        "fig.suptitle('Average word length in each tweet')"
      ],
      "execution_count": 10,
      "outputs": [
        {
          "output_type": "execute_result",
          "data": {
            "text/plain": [
              "Text(0.5, 0.98, 'Average word length in each tweet')"
            ]
          },
          "metadata": {
            "tags": []
          },
          "execution_count": 10
        },
        {
          "output_type": "display_data",
          "data": {
            "image/png": "[encoded data removed]",
            "text/plain": [
              "<Figure size 720x360 with 2 Axes>"
            ]
          },
          "metadata": {
            "tags": [],
            "needs_background": "light"
          }
        }
      ]
    },
    {
      "cell_type": "markdown",
      "metadata": {
        "id": "QBrjL69ASpG6",
        "colab_type": "text"
      },
      "source": [
        "anhand der Wortlänge lässt sich kein signifikanter Unterschied erkennen.\n",
        "Jedoch beinhalten disaster Tweets auf den ersten Blick etwas längere Wörter."
      ]
    },
    {
      "cell_type": "code",
      "metadata": {
        "id": "TfhZbSZEP1Ey",
        "colab_type": "code",
        "colab": {}
      },
      "source": [
        "def create_corpus(target):\n",
        "    corpus=[]\n",
        "    \n",
        "    for x in train[train['target']==target]['text'].str.split():\n",
        "        for i in x:\n",
        "            corpus.append(i)\n",
        "    return corpus"
      ],
      "execution_count": 0,
      "outputs": []
    },
    {
      "cell_type": "code",
      "metadata": {
        "id": "MFLqf5iOV_ms",
        "colab_type": "code",
        "colab": {}
      },
      "source": [
        "disaster = create_corpus(1)\n",
        "non_disaster = create_corpus(0)"
      ],
      "execution_count": 0,
      "outputs": []
    },
    {
      "cell_type": "code",
      "metadata": {
        "id": "6Ne1_X5vXwHL",
        "colab_type": "code",
        "colab": {}
      },
      "source": [
        "#print(disaster)"
      ],
      "execution_count": 0,
      "outputs": []
    },
    {
      "cell_type": "markdown",
      "metadata": {
        "id": "Zv7XQR1uZPpK",
        "colab_type": "text"
      },
      "source": [
        "Überprüfe Anzahl an Hashtags pro Tweet"
      ]
    },
    {
      "cell_type": "code",
      "metadata": {
        "id": "7qPU-nJrZuxk",
        "colab_type": "code",
        "outputId": "c5245e4e-f042-4eab-a081-8f7d71081567",
        "colab": {
          "base_uri": "https://localhost:8080/",
          "height": 374
        }
      },
      "source": [
        "fig,(ax1,ax2)=plt.subplots(1,2,figsize=(10,5))\n",
        "hashtags=train[train['target']==1]['text'].str.split().apply(lambda x : sum(i.startswith('#') for i in x))\n",
        "ax1.hist(hashtags,color='firebrick')\n",
        "ax1.set_ylim(0, 300)\n",
        "ax1.set_title('disaster')\n",
        "hashtags=train[train['target']==0]['text'].str.split().apply(lambda x : sum(i.startswith('#') for i in x))\n",
        "ax2.hist(hashtags,color='royalblue')\n",
        "ax2.set_ylim(0, 300)\n",
        "ax2.set_title('Not disaster')\n",
        "fig.suptitle('Number of Hashtags in each tweet')"
      ],
      "execution_count": 14,
      "outputs": [
        {
          "output_type": "execute_result",
          "data": {
            "text/plain": [
              "Text(0.5, 0.98, 'Number of Hashtags in each tweet')"
            ]
          },
          "metadata": {
            "tags": []
          },
          "execution_count": 14
        },
        {
          "output_type": "display_data",
          "data": {
            "image/png": "[encoded data removed]",
            "text/plain": [
              "<Figure size 720x360 with 2 Axes>"
            ]
          },
          "metadata": {
            "tags": [],
            "needs_background": "light"
          }
        }
      ]
    },
    {
      "cell_type": "markdown",
      "metadata": {
        "id": "C_f-NmjEkpvv",
        "colab_type": "text"
      },
      "source": [
        "viele Tweets haben keine Hashtags. Tendenziell haben disaster Tweets eher weniger Hashtags. Jedoch nicht signifikant."
      ]
    },
    {
      "cell_type": "markdown",
      "metadata": {
        "id": "FfoTpWCipqbr",
        "colab_type": "text"
      },
      "source": [
        "Welches sind die am häufigsten verwendeten Wörter?"
      ]
    },
    {
      "cell_type": "code",
      "metadata": {
        "id": "HNbmcR_haJDh",
        "colab_type": "code",
        "colab": {}
      },
      "source": [
        "def common_words(corpus):\n",
        "  counter=Counter(corpus)\n",
        "  most=counter.most_common()\n",
        "  x=[]\n",
        "  y=[]\n",
        "  for word,count in most[:40]:\n",
        "      if (word not in stop) :\n",
        "        x.append(word)\n",
        "        y.append(count)\n",
        "\n",
        "  return x, y"
      ],
      "execution_count": 0,
      "outputs": []
    },
    {
      "cell_type": "code",
      "metadata": {
        "id": "HNgeCmB4Aqmq",
        "colab_type": "code",
        "colab": {}
      },
      "source": [
        "def plot_common_words(disaster, non_disaster):\n",
        "  disaster_x, disaster_y = common_words(disaster)\n",
        "  non_disaster_x, non_disaster_y = common_words(non_disaster)\n",
        "\n",
        "  fig,(ax1,ax2)=plt.subplots(1,2,figsize=(40,10))\n",
        "  ax1.barh(disaster_x, disaster_y)\n",
        "  ax1.set_title('disaster')\n",
        "\n",
        "  ax2.barh(non_disaster_x, non_disaster_y)\n",
        "  ax2.set_title('non disaster')"
      ],
      "execution_count": 0,
      "outputs": []
    },
    {
      "cell_type": "code",
      "metadata": {
        "id": "Y360HgIOp6dI",
        "colab_type": "code",
        "colab": {
          "base_uri": "https://localhost:8080/",
          "height": 607
        },
        "outputId": "ef341294-c237-4da7-8a69-17ad69f89e44"
      },
      "source": [
        "plot_common_words(disaster, non_disaster)"
      ],
      "execution_count": 17,
      "outputs": [
        {
          "output_type": "display_data",
          "data": {
            "image/png": "[encoded data removed]",
            "text/plain": [
              "<Figure size 2880x720 with 2 Axes>"
            ]
          },
          "metadata": {
            "tags": [],
            "needs_background": "light"
          }
        }
      ]
    },
    {
      "cell_type": "markdown",
      "metadata": {
        "id": "79OBqy3C5pzW",
        "colab_type": "text"
      },
      "source": [
        "Hier schauen wir uns noch die keywords der Tweets, die am meisten verwendet wurden an."
      ]
    },
    {
      "cell_type": "code",
      "metadata": {
        "id": "2Oh3rdtu5oAC",
        "colab_type": "code",
        "colab": {
          "base_uri": "https://localhost:8080/",
          "height": 537
        },
        "outputId": "a729de2f-fdd2-4cec-d95e-860c57acb540"
      },
      "source": [
        "keywords=train['keyword'].value_counts()\n",
        "fig, ax = plt.subplots(figsize =(16, 9))\n",
        "\n",
        "keys = list(keywords.keys()[:40]) \n",
        "values = list(keywords[:40])\n",
        "# Horizontal Bar Plot \n",
        "ax.barh(keys,values, color='darkgray') \n",
        "# Show Plot \n",
        "plt.show()"
      ],
      "execution_count": 18,
      "outputs": [
        {
          "output_type": "display_data",
          "data": {
            "image/png": "[encoded data removed]",
            "text/plain": [
              "<Figure size 1152x648 with 1 Axes>"
            ]
          },
          "metadata": {
            "tags": [],
            "needs_background": "light"
          }
        }
      ]
    },
    {
      "cell_type": "markdown",
      "metadata": {
        "id": "A08IPl7_6_e0",
        "colab_type": "text"
      },
      "source": [
        "Zudem ist es interessant, an welchem Ort die meisten Tweets stattfanden."
      ]
    },
    {
      "cell_type": "code",
      "metadata": {
        "id": "16lm-ueZ7KKl",
        "colab_type": "code",
        "colab": {
          "base_uri": "https://localhost:8080/",
          "height": 537
        },
        "outputId": "61ea3779-2bec-4032-c9c3-0bcf105e2cd7"
      },
      "source": [
        "locations=train['location'].value_counts()\n",
        "fig, ax = plt.subplots(figsize =(16, 9))\n",
        "\n",
        "keys = list(locations.keys()[:40]) \n",
        "values = list(locations[:40])\n",
        "# Horizontal Bar Plot \n",
        "ax.barh(keys,values, color='forestgreen') \n",
        "# Show Plot \n",
        "plt.show()"
      ],
      "execution_count": 19,
      "outputs": [
        {
          "output_type": "display_data",
          "data": {
            "image/png": "[encoded data removed]",
            "text/plain": [
              "<Figure size 1152x648 with 1 Axes>"
            ]
          },
          "metadata": {
            "tags": [],
            "needs_background": "light"
          }
        }
      ]
    },
    {
      "cell_type": "markdown",
      "metadata": {
        "id": "GpHOqE7cwhOe",
        "colab_type": "text"
      },
      "source": [
        "###Data Cleaning:"
      ]
    },
    {
      "cell_type": "code",
      "metadata": {
        "id": "n6V-hO7Vu_IX",
        "colab_type": "code",
        "colab": {}
      },
      "source": [
        "def remove_punct(text):\n",
        "    text  = \"\".join([char for char in text if char not in string.punctuation])\n",
        "    text = re.sub('[0-9]+', '', text)\n",
        "    return text"
      ],
      "execution_count": 0,
      "outputs": []
    },
    {
      "cell_type": "code",
      "metadata": {
        "id": "MBGZVhI2ywuN",
        "colab_type": "code",
        "outputId": "70b4f51e-ad9d-457c-a66d-80e988baba9c",
        "colab": {
          "base_uri": "https://localhost:8080/",
          "height": 35
        }
      },
      "source": [
        "remove_punct(train.text[0])"
      ],
      "execution_count": 21,
      "outputs": [
        {
          "output_type": "execute_result",
          "data": {
            "text/plain": [
              "'Our Deeds are the Reason of this earthquake May ALLAH Forgive us all'"
            ]
          },
          "metadata": {
            "tags": []
          },
          "execution_count": 21
        }
      ]
    },
    {
      "cell_type": "code",
      "metadata": {
        "id": "wW5GHPkyy0dq",
        "colab_type": "code",
        "outputId": "952ec199-7266-4b36-ef31-a98c019df83d",
        "colab": {
          "base_uri": "https://localhost:8080/",
          "height": 35
        }
      },
      "source": [
        "remove_punct(train.text[15])"
      ],
      "execution_count": 22,
      "outputs": [
        {
          "output_type": "execute_result",
          "data": {
            "text/plain": [
              "'Whats up man'"
            ]
          },
          "metadata": {
            "tags": []
          },
          "execution_count": 22
        }
      ]
    },
    {
      "cell_type": "code",
      "metadata": {
        "id": "Zb0Hpe0zy2zw",
        "colab_type": "code",
        "outputId": "a0bc9859-812e-4d27-e450-defe4dc0c42e",
        "colab": {
          "base_uri": "https://localhost:8080/",
          "height": 35
        }
      },
      "source": [
        "train.text[15]"
      ],
      "execution_count": 23,
      "outputs": [
        {
          "output_type": "execute_result",
          "data": {
            "text/plain": [
              "\"What's up man?\""
            ]
          },
          "metadata": {
            "tags": []
          },
          "execution_count": 23
        }
      ]
    },
    {
      "cell_type": "code",
      "metadata": {
        "id": "-RV4QHeVzaZ3",
        "colab_type": "code",
        "colab": {}
      },
      "source": [
        "def remove_URL(text):\n",
        "    url = re.compile(r'https?://\\S+|www\\.\\S+')\n",
        "    return url.sub(r'',text)"
      ],
      "execution_count": 0,
      "outputs": []
    },
    {
      "cell_type": "code",
      "metadata": {
        "id": "pv8UdehDNcLj",
        "colab_type": "code",
        "colab": {}
      },
      "source": [
        "#train.head(30)"
      ],
      "execution_count": 0,
      "outputs": []
    },
    {
      "cell_type": "code",
      "metadata": {
        "id": "--dHrNS3zq0N",
        "colab_type": "code",
        "colab": {}
      },
      "source": [
        "def clean_stopwords(text):\n",
        "    text  = \"\".join([word for word in text if word not in stop])\n",
        "    return text"
      ],
      "execution_count": 0,
      "outputs": []
    },
    {
      "cell_type": "code",
      "metadata": {
        "id": "tibjLeOIAILV",
        "colab_type": "code",
        "colab": {}
      },
      "source": [
        "def remove_numbers(text):\n",
        "    text = ''.join([i for i in text if not i.isdigit()])         \n",
        "    return text"
      ],
      "execution_count": 0,
      "outputs": []
    },
    {
      "cell_type": "code",
      "metadata": {
        "id": "3jNp-tTfVHMy",
        "colab_type": "code",
        "colab": {}
      },
      "source": [
        "def clean_non_alphabetic(text):\n",
        "  text = ''.join([word for word in text if word.isalpha() or word == \" \"])   \n",
        "  return text"
      ],
      "execution_count": 0,
      "outputs": []
    },
    {
      "cell_type": "code",
      "metadata": {
        "id": "F6AZJV23FetC",
        "colab_type": "code",
        "colab": {}
      },
      "source": [
        "def clean_data(x):\n",
        "  x= x.lower()\n",
        "  x = remove_numbers(x)\n",
        "  x = remove_URL(x)\n",
        "  x = remove_punct(x)\n",
        "  x = re.sub(\"§´\", \"\",x)\n",
        "  x = re.sub(\"'\", \" \", x)\n",
        "  x = re.sub(r\"&gt;\", \"\", x)\n",
        "  x = re.sub(r\"&lt;\", \"\", x)\n",
        "  x = re.sub(r\"&amp;\", \"\", x)\n",
        "  x = re.sub(r\"\\n\", \" \", x)\n",
        "  x = re.sub(r\"\\x89ûò\", \"\", x)\n",
        "  x = re.sub(r\"\\x89ûò\", \"\", x)\n",
        "  x = re.sub(r\"\\x89ûª\", \"\", x)\n",
        "  x = re.sub(r\"\\x89ûï\", \"\", x)\n",
        "  x = re.sub(r\"\\x89ûò\", \"\", x)\n",
        "  x = re.sub(r\"\\x89ûª\", \"\", x)\n",
        "  x = re.sub(r\"\\x89ûò\", \"\", x)\n",
        "  x = re.sub(r\"\\x89ûª\", \"\", x)\n",
        "  x = re.sub(r\"\\x89û\", \"\", x)\n",
        "  x = re.sub(r\"\\x9d\", \"\", x)\n",
        "  x = re.sub('\\w*\\d\\w*', '', x)\n",
        "  x = re.sub('ì©', 'é', x)\n",
        "  x = re.sub(r\"åê\", \"\", x)\n",
        "  x = re.sub(\"  \", \"\",x)\n",
        "  x = clean_non_alphabetic(x)\n",
        "  return x"
      ],
      "execution_count": 0,
      "outputs": []
    },
    {
      "cell_type": "code",
      "metadata": {
        "id": "EZ0qrUtFzvPv",
        "colab_type": "code",
        "colab": {
          "base_uri": "https://localhost:8080/",
          "height": 199
        },
        "outputId": "b749632f-27dc-42c6-da64-c96d835c1b8d"
      },
      "source": [
        "train['text']=train['text'].apply(lambda x: clean_data(x))\n",
        "train['text'].values[:10]"
      ],
      "execution_count": 30,
      "outputs": [
        {
          "output_type": "execute_result",
          "data": {
            "text/plain": [
              "array(['our deeds are the reason of this earthquake may allah forgive us all',\n",
              "       'forest fire near la ronge sask canada',\n",
              "       'all residents asked to shelter in place are being notified by officers no other evacuation or shelter in place orders are expected',\n",
              "       ' people receive wildfires evacuation orders in california ',\n",
              "       'just got sent this photo from ruby alaska as smoke from wildfires pours into a school ',\n",
              "       'rockyfire updatecalifornia hwyclosed in both directions due to lake county firecafire wildfires',\n",
              "       'flood disaster heavy rain causes flash flooding of streets in manitou colorado springs areas',\n",
              "       'im on top of the hill and i can see a fire in the woods',\n",
              "       'theres an emergency evacuation happening now in the building across the street',\n",
              "       'im afraid that the tornado is coming to our area'], dtype=object)"
            ]
          },
          "metadata": {
            "tags": []
          },
          "execution_count": 30
        }
      ]
    },
    {
      "cell_type": "code",
      "metadata": {
        "id": "tgKKoZ2zAM_4",
        "colab_type": "code",
        "colab": {
          "base_uri": "https://localhost:8080/",
          "height": 163
        },
        "outputId": "d5cd9de8-f88a-49a3-9036-c249cf4177ea"
      },
      "source": [
        "test['text']=test['text'].apply(lambda x: clean_data(x))\n",
        "test['text'].values[:10]"
      ],
      "execution_count": 31,
      "outputs": [
        {
          "output_type": "execute_result",
          "data": {
            "text/plain": [
              "array(['just happened a terrible car crash',\n",
              "       'heard about earthquake is different cities stay safe everyone',\n",
              "       'there is a forest fire at spot pond geese are fleeing across the street i cannot save them all',\n",
              "       'apocalypse lighting spokane wildfires',\n",
              "       'typhoon soudelor killsin china and taiwan',\n",
              "       'were shakingits an earthquake',\n",
              "       'theyd probably still show more life than arsenal did yesterday eh eh',\n",
              "       'hey how are you', 'what a nice hat', 'fuck off'], dtype=object)"
            ]
          },
          "metadata": {
            "tags": []
          },
          "execution_count": 31
        }
      ]
    },
    {
      "cell_type": "code",
      "metadata": {
        "id": "cL_55COncmHj",
        "colab_type": "code",
        "colab": {}
      },
      "source": [
        "#train['text'] = train['text'].apply(lambda x: word_tokenize(str(x)))\n",
        "#test['text'] = test['text'].apply(lambda x: word_tokenize(str(x)))"
      ],
      "execution_count": 0,
      "outputs": []
    },
    {
      "cell_type": "code",
      "metadata": {
        "id": "T2BgajZYdgRx",
        "colab_type": "code",
        "colab": {}
      },
      "source": [
        "def remove_stopwords(text):\n",
        "  tokens = word_tokenize(str(text))\n",
        "\n",
        "  text=\"\"\n",
        "  for t in tokens:\n",
        "    if t not in stop:\n",
        "      text = text + t + \" \"   \n",
        "  return text"
      ],
      "execution_count": 0,
      "outputs": []
    },
    {
      "cell_type": "code",
      "metadata": {
        "id": "MMRep_PmjoJl",
        "colab_type": "code",
        "colab": {}
      },
      "source": [
        "train['text'] = train['text'].apply(lambda x: remove_stopwords(x))\n",
        "test['text'] = test['text'].apply(lambda x: remove_stopwords(x))"
      ],
      "execution_count": 0,
      "outputs": []
    },
    {
      "cell_type": "code",
      "metadata": {
        "id": "eCNrZ-W6kje4",
        "colab_type": "code",
        "colab": {
          "base_uri": "https://localhost:8080/",
          "height": 217
        },
        "outputId": "14845eb4-beb0-4bf9-f637-70757da07f4d"
      },
      "source": [
        "train['text'].head(10)"
      ],
      "execution_count": 35,
      "outputs": [
        {
          "output_type": "execute_result",
          "data": {
            "text/plain": [
              "0        deeds reason earthquake may allah forgive us \n",
              "1               forest fire near la ronge sask canada \n",
              "2    residents asked shelter place notified officer...\n",
              "3    people receive wildfires evacuation orders cal...\n",
              "4    got sent photo ruby alaska smoke wildfires pou...\n",
              "5    rockyfire updatecalifornia hwyclosed direction...\n",
              "6    flood disaster heavy rain causes flash floodin...\n",
              "7                          im top hill see fire woods \n",
              "8    theres emergency evacuation happening building...\n",
              "9                       im afraid tornado coming area \n",
              "Name: text, dtype: object"
            ]
          },
          "metadata": {
            "tags": []
          },
          "execution_count": 35
        }
      ]
    },
    {
      "cell_type": "code",
      "metadata": {
        "id": "kirKBUAgkmJX",
        "colab_type": "code",
        "colab": {}
      },
      "source": [
        ""
      ],
      "execution_count": 0,
      "outputs": []
    }
  ]
}